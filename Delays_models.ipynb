{
  "nbformat": 4,
  "nbformat_minor": 0,
  "metadata": {
    "colab": {
      "provenance": [],
      "collapsed_sections": [
        "rLJEPgMNWKMZ",
        "FqaDQIx8WPTj",
        "Al1e2FVvWUaw",
        "Ad_nz_DxVoCJ",
        "fCWLhvoJWD4h",
        "JZjD2gBEke_M",
        "Ywumo6ypeT-5",
        "-o6ZMm7U9JUG"
      ]
    },
    "kernelspec": {
      "name": "python3",
      "display_name": "Python 3"
    },
    "language_info": {
      "name": "python"
    }
  },
  "cells": [
    {
      "cell_type": "code",
      "execution_count": null,
      "metadata": {
        "id": "Jn7gdVYmRgM6"
      },
      "outputs": [],
      "source": [
        "from sklearn.preprocessing import LabelEncoder"
      ]
    },
    {
      "cell_type": "code",
      "source": [
        "from google.colab import drive\n",
        "drive.mount('/content/drive')"
      ],
      "metadata": {
        "colab": {
          "base_uri": "https://localhost:8080/"
        },
        "id": "3nHcgS-xXEjc",
        "outputId": "bc19c8da-7aa8-45c6-8487-038bcc7c8180"
      },
      "execution_count": null,
      "outputs": [
        {
          "output_type": "stream",
          "name": "stdout",
          "text": [
            "Drive already mounted at /content/drive; to attempt to forcibly remount, call drive.mount(\"/content/drive\", force_remount=True).\n"
          ]
        }
      ]
    },
    {
      "cell_type": "code",
      "source": [
        "from sklearn.model_selection import train_test_split"
      ],
      "metadata": {
        "id": "cEnBIbcRSol0"
      },
      "execution_count": null,
      "outputs": []
    },
    {
      "cell_type": "code",
      "source": [
        "import pandas as pd\n",
        "from sklearn.impute import SimpleImputer\n",
        "from sklearn.compose import ColumnTransformer\n",
        "from sklearn.pipeline import Pipeline"
      ],
      "metadata": {
        "id": "ihtC_bO2Teec"
      },
      "execution_count": null,
      "outputs": []
    },
    {
      "cell_type": "code",
      "source": [
        "X_df = pd.read_csv(\"drive/MyDrive/GEOSpatial/features.csv\")\n",
        "y_df = pd.read_csv(\"drive/MyDrive/GEOSpatial/targets.csv\")"
      ],
      "metadata": {
        "id": "fgEXE1-PYGsD"
      },
      "execution_count": null,
      "outputs": []
    },
    {
      "cell_type": "code",
      "source": [
        "X_df"
      ],
      "metadata": {
        "colab": {
          "base_uri": "https://localhost:8080/",
          "height": 444
        },
        "id": "ekZFNoCFXSA3",
        "outputId": "89724964-f2c9-44e3-863f-ff4ac1d88fbb"
      },
      "execution_count": null,
      "outputs": [
        {
          "output_type": "execute_result",
          "data": {
            "text/plain": [
              "              ID  YEAR  MONTH  DAY  DAY_OF_WEEK AIRLINE  FLIGHT_NUMBER  \\\n",
              "0        5133505  2021      2   14            6      AA           1077   \n",
              "1        5051259  2021     12    4            5      WN           2510   \n",
              "2        5340710  2021      7    7            2      MQ           3204   \n",
              "3        5445255  2021      1    4            7      B6            777   \n",
              "4        2473736  2021      6   16            2      WN           4924   \n",
              "...          ...   ...    ...  ...          ...     ...            ...   \n",
              "5314003  3089553  2021     12   22            2      DL            611   \n",
              "5314004  4917798  2021      9    1            2      OO           4589   \n",
              "5314005  3723223  2021      6   16            2      EV           2668   \n",
              "5314006   690512  2021      4    8            3      DL           1731   \n",
              "5314007  3455780  2021      7    2            4      WN            923   \n",
              "\n",
              "        TAIL_NUMBER ORIGIN_AIRPORT DESTINATION_AIRPORT  ...  DEPARTURE_DELAY  \\\n",
              "0            N454AA            BWI                 DFW  ...             -9.0   \n",
              "1            N656SW            ONT                 SMF  ...              2.0   \n",
              "2            N696MQ            DFW                 LCH  ...             -6.0   \n",
              "3            N585JB            BOS                 LAS  ...             10.0   \n",
              "4            N462WN            LAX                 OAK  ...             39.0   \n",
              "...             ...            ...                 ...  ...              ...   \n",
              "5314003      N199DN            LAX                 HNL  ...              8.0   \n",
              "5314004      N803SK            LGB                 SLC  ...             -8.0   \n",
              "5314005      N680AE            VPS                 DFW  ...            330.0   \n",
              "5314006      N595NW            LAX                 ATL  ...             15.0   \n",
              "5314007      N223WN            MDW                 SEA  ...              4.0   \n",
              "\n",
              "         TAXI_OUT  WHEELS_OFF  SCHEDULED_TIME  AIR_TIME  DISTANCE  \\\n",
              "0              10         832           224.0     168.0      1217   \n",
              "1               7         939            80.0      65.0       390   \n",
              "2              12        2216            73.0      52.0       295   \n",
              "3              17        2032           363.0     329.0      2381   \n",
              "4               8        1822            75.0      54.0       337   \n",
              "...           ...         ...             ...       ...       ...   \n",
              "5314003        20         858           360.0     312.0      2556   \n",
              "5314004        14        1311           108.0      83.0       588   \n",
              "5314005         7        1949           128.0      93.0       641   \n",
              "5314006        15         145           249.0     213.0      1947   \n",
              "5314007        13        1417           265.0     241.0      1733   \n",
              "\n",
              "         SCHEDULED_ARRIVAL  DIVERTED  CANCELLED  CANCELLATION_REASON  \n",
              "0                     1115         0          0                  NaN  \n",
              "1                     1050         0          0                  NaN  \n",
              "2                     2323         0          0                  NaN  \n",
              "3                     2308         0          0                  NaN  \n",
              "4                     1850         0          0                  NaN  \n",
              "...                    ...       ...        ...                  ...  \n",
              "5314003               1230         0          0                  NaN  \n",
              "5314004               1553         0          0                  NaN  \n",
              "5314005               1620         0          0                  NaN  \n",
              "5314006                824         0          0                  NaN  \n",
              "5314007               1625         0          0                  NaN  \n",
              "\n",
              "[5314008 rows x 22 columns]"
            ],
            "text/html": [
              "\n",
              "  <div id=\"df-089c7de9-6dcc-45db-a7c4-02a6b85d4601\" class=\"colab-df-container\">\n",
              "    <div>\n",
              "<style scoped>\n",
              "    .dataframe tbody tr th:only-of-type {\n",
              "        vertical-align: middle;\n",
              "    }\n",
              "\n",
              "    .dataframe tbody tr th {\n",
              "        vertical-align: top;\n",
              "    }\n",
              "\n",
              "    .dataframe thead th {\n",
              "        text-align: right;\n",
              "    }\n",
              "</style>\n",
              "<table border=\"1\" class=\"dataframe\">\n",
              "  <thead>\n",
              "    <tr style=\"text-align: right;\">\n",
              "      <th></th>\n",
              "      <th>ID</th>\n",
              "      <th>YEAR</th>\n",
              "      <th>MONTH</th>\n",
              "      <th>DAY</th>\n",
              "      <th>DAY_OF_WEEK</th>\n",
              "      <th>AIRLINE</th>\n",
              "      <th>FLIGHT_NUMBER</th>\n",
              "      <th>TAIL_NUMBER</th>\n",
              "      <th>ORIGIN_AIRPORT</th>\n",
              "      <th>DESTINATION_AIRPORT</th>\n",
              "      <th>...</th>\n",
              "      <th>DEPARTURE_DELAY</th>\n",
              "      <th>TAXI_OUT</th>\n",
              "      <th>WHEELS_OFF</th>\n",
              "      <th>SCHEDULED_TIME</th>\n",
              "      <th>AIR_TIME</th>\n",
              "      <th>DISTANCE</th>\n",
              "      <th>SCHEDULED_ARRIVAL</th>\n",
              "      <th>DIVERTED</th>\n",
              "      <th>CANCELLED</th>\n",
              "      <th>CANCELLATION_REASON</th>\n",
              "    </tr>\n",
              "  </thead>\n",
              "  <tbody>\n",
              "    <tr>\n",
              "      <th>0</th>\n",
              "      <td>5133505</td>\n",
              "      <td>2021</td>\n",
              "      <td>2</td>\n",
              "      <td>14</td>\n",
              "      <td>6</td>\n",
              "      <td>AA</td>\n",
              "      <td>1077</td>\n",
              "      <td>N454AA</td>\n",
              "      <td>BWI</td>\n",
              "      <td>DFW</td>\n",
              "      <td>...</td>\n",
              "      <td>-9.0</td>\n",
              "      <td>10</td>\n",
              "      <td>832</td>\n",
              "      <td>224.0</td>\n",
              "      <td>168.0</td>\n",
              "      <td>1217</td>\n",
              "      <td>1115</td>\n",
              "      <td>0</td>\n",
              "      <td>0</td>\n",
              "      <td>NaN</td>\n",
              "    </tr>\n",
              "    <tr>\n",
              "      <th>1</th>\n",
              "      <td>5051259</td>\n",
              "      <td>2021</td>\n",
              "      <td>12</td>\n",
              "      <td>4</td>\n",
              "      <td>5</td>\n",
              "      <td>WN</td>\n",
              "      <td>2510</td>\n",
              "      <td>N656SW</td>\n",
              "      <td>ONT</td>\n",
              "      <td>SMF</td>\n",
              "      <td>...</td>\n",
              "      <td>2.0</td>\n",
              "      <td>7</td>\n",
              "      <td>939</td>\n",
              "      <td>80.0</td>\n",
              "      <td>65.0</td>\n",
              "      <td>390</td>\n",
              "      <td>1050</td>\n",
              "      <td>0</td>\n",
              "      <td>0</td>\n",
              "      <td>NaN</td>\n",
              "    </tr>\n",
              "    <tr>\n",
              "      <th>2</th>\n",
              "      <td>5340710</td>\n",
              "      <td>2021</td>\n",
              "      <td>7</td>\n",
              "      <td>7</td>\n",
              "      <td>2</td>\n",
              "      <td>MQ</td>\n",
              "      <td>3204</td>\n",
              "      <td>N696MQ</td>\n",
              "      <td>DFW</td>\n",
              "      <td>LCH</td>\n",
              "      <td>...</td>\n",
              "      <td>-6.0</td>\n",
              "      <td>12</td>\n",
              "      <td>2216</td>\n",
              "      <td>73.0</td>\n",
              "      <td>52.0</td>\n",
              "      <td>295</td>\n",
              "      <td>2323</td>\n",
              "      <td>0</td>\n",
              "      <td>0</td>\n",
              "      <td>NaN</td>\n",
              "    </tr>\n",
              "    <tr>\n",
              "      <th>3</th>\n",
              "      <td>5445255</td>\n",
              "      <td>2021</td>\n",
              "      <td>1</td>\n",
              "      <td>4</td>\n",
              "      <td>7</td>\n",
              "      <td>B6</td>\n",
              "      <td>777</td>\n",
              "      <td>N585JB</td>\n",
              "      <td>BOS</td>\n",
              "      <td>LAS</td>\n",
              "      <td>...</td>\n",
              "      <td>10.0</td>\n",
              "      <td>17</td>\n",
              "      <td>2032</td>\n",
              "      <td>363.0</td>\n",
              "      <td>329.0</td>\n",
              "      <td>2381</td>\n",
              "      <td>2308</td>\n",
              "      <td>0</td>\n",
              "      <td>0</td>\n",
              "      <td>NaN</td>\n",
              "    </tr>\n",
              "    <tr>\n",
              "      <th>4</th>\n",
              "      <td>2473736</td>\n",
              "      <td>2021</td>\n",
              "      <td>6</td>\n",
              "      <td>16</td>\n",
              "      <td>2</td>\n",
              "      <td>WN</td>\n",
              "      <td>4924</td>\n",
              "      <td>N462WN</td>\n",
              "      <td>LAX</td>\n",
              "      <td>OAK</td>\n",
              "      <td>...</td>\n",
              "      <td>39.0</td>\n",
              "      <td>8</td>\n",
              "      <td>1822</td>\n",
              "      <td>75.0</td>\n",
              "      <td>54.0</td>\n",
              "      <td>337</td>\n",
              "      <td>1850</td>\n",
              "      <td>0</td>\n",
              "      <td>0</td>\n",
              "      <td>NaN</td>\n",
              "    </tr>\n",
              "    <tr>\n",
              "      <th>...</th>\n",
              "      <td>...</td>\n",
              "      <td>...</td>\n",
              "      <td>...</td>\n",
              "      <td>...</td>\n",
              "      <td>...</td>\n",
              "      <td>...</td>\n",
              "      <td>...</td>\n",
              "      <td>...</td>\n",
              "      <td>...</td>\n",
              "      <td>...</td>\n",
              "      <td>...</td>\n",
              "      <td>...</td>\n",
              "      <td>...</td>\n",
              "      <td>...</td>\n",
              "      <td>...</td>\n",
              "      <td>...</td>\n",
              "      <td>...</td>\n",
              "      <td>...</td>\n",
              "      <td>...</td>\n",
              "      <td>...</td>\n",
              "      <td>...</td>\n",
              "    </tr>\n",
              "    <tr>\n",
              "      <th>5314003</th>\n",
              "      <td>3089553</td>\n",
              "      <td>2021</td>\n",
              "      <td>12</td>\n",
              "      <td>22</td>\n",
              "      <td>2</td>\n",
              "      <td>DL</td>\n",
              "      <td>611</td>\n",
              "      <td>N199DN</td>\n",
              "      <td>LAX</td>\n",
              "      <td>HNL</td>\n",
              "      <td>...</td>\n",
              "      <td>8.0</td>\n",
              "      <td>20</td>\n",
              "      <td>858</td>\n",
              "      <td>360.0</td>\n",
              "      <td>312.0</td>\n",
              "      <td>2556</td>\n",
              "      <td>1230</td>\n",
              "      <td>0</td>\n",
              "      <td>0</td>\n",
              "      <td>NaN</td>\n",
              "    </tr>\n",
              "    <tr>\n",
              "      <th>5314004</th>\n",
              "      <td>4917798</td>\n",
              "      <td>2021</td>\n",
              "      <td>9</td>\n",
              "      <td>1</td>\n",
              "      <td>2</td>\n",
              "      <td>OO</td>\n",
              "      <td>4589</td>\n",
              "      <td>N803SK</td>\n",
              "      <td>LGB</td>\n",
              "      <td>SLC</td>\n",
              "      <td>...</td>\n",
              "      <td>-8.0</td>\n",
              "      <td>14</td>\n",
              "      <td>1311</td>\n",
              "      <td>108.0</td>\n",
              "      <td>83.0</td>\n",
              "      <td>588</td>\n",
              "      <td>1553</td>\n",
              "      <td>0</td>\n",
              "      <td>0</td>\n",
              "      <td>NaN</td>\n",
              "    </tr>\n",
              "    <tr>\n",
              "      <th>5314005</th>\n",
              "      <td>3723223</td>\n",
              "      <td>2021</td>\n",
              "      <td>6</td>\n",
              "      <td>16</td>\n",
              "      <td>2</td>\n",
              "      <td>EV</td>\n",
              "      <td>2668</td>\n",
              "      <td>N680AE</td>\n",
              "      <td>VPS</td>\n",
              "      <td>DFW</td>\n",
              "      <td>...</td>\n",
              "      <td>330.0</td>\n",
              "      <td>7</td>\n",
              "      <td>1949</td>\n",
              "      <td>128.0</td>\n",
              "      <td>93.0</td>\n",
              "      <td>641</td>\n",
              "      <td>1620</td>\n",
              "      <td>0</td>\n",
              "      <td>0</td>\n",
              "      <td>NaN</td>\n",
              "    </tr>\n",
              "    <tr>\n",
              "      <th>5314006</th>\n",
              "      <td>690512</td>\n",
              "      <td>2021</td>\n",
              "      <td>4</td>\n",
              "      <td>8</td>\n",
              "      <td>3</td>\n",
              "      <td>DL</td>\n",
              "      <td>1731</td>\n",
              "      <td>N595NW</td>\n",
              "      <td>LAX</td>\n",
              "      <td>ATL</td>\n",
              "      <td>...</td>\n",
              "      <td>15.0</td>\n",
              "      <td>15</td>\n",
              "      <td>145</td>\n",
              "      <td>249.0</td>\n",
              "      <td>213.0</td>\n",
              "      <td>1947</td>\n",
              "      <td>824</td>\n",
              "      <td>0</td>\n",
              "      <td>0</td>\n",
              "      <td>NaN</td>\n",
              "    </tr>\n",
              "    <tr>\n",
              "      <th>5314007</th>\n",
              "      <td>3455780</td>\n",
              "      <td>2021</td>\n",
              "      <td>7</td>\n",
              "      <td>2</td>\n",
              "      <td>4</td>\n",
              "      <td>WN</td>\n",
              "      <td>923</td>\n",
              "      <td>N223WN</td>\n",
              "      <td>MDW</td>\n",
              "      <td>SEA</td>\n",
              "      <td>...</td>\n",
              "      <td>4.0</td>\n",
              "      <td>13</td>\n",
              "      <td>1417</td>\n",
              "      <td>265.0</td>\n",
              "      <td>241.0</td>\n",
              "      <td>1733</td>\n",
              "      <td>1625</td>\n",
              "      <td>0</td>\n",
              "      <td>0</td>\n",
              "      <td>NaN</td>\n",
              "    </tr>\n",
              "  </tbody>\n",
              "</table>\n",
              "<p>5314008 rows × 22 columns</p>\n",
              "</div>\n",
              "    <div class=\"colab-df-buttons\">\n",
              "\n",
              "  <div class=\"colab-df-container\">\n",
              "    <button class=\"colab-df-convert\" onclick=\"convertToInteractive('df-089c7de9-6dcc-45db-a7c4-02a6b85d4601')\"\n",
              "            title=\"Convert this dataframe to an interactive table.\"\n",
              "            style=\"display:none;\">\n",
              "\n",
              "  <svg xmlns=\"http://www.w3.org/2000/svg\" height=\"24px\" viewBox=\"0 -960 960 960\">\n",
              "    <path d=\"M120-120v-720h720v720H120Zm60-500h600v-160H180v160Zm220 220h160v-160H400v160Zm0 220h160v-160H400v160ZM180-400h160v-160H180v160Zm440 0h160v-160H620v160ZM180-180h160v-160H180v160Zm440 0h160v-160H620v160Z\"/>\n",
              "  </svg>\n",
              "    </button>\n",
              "\n",
              "  <style>\n",
              "    .colab-df-container {\n",
              "      display:flex;\n",
              "      gap: 12px;\n",
              "    }\n",
              "\n",
              "    .colab-df-convert {\n",
              "      background-color: #E8F0FE;\n",
              "      border: none;\n",
              "      border-radius: 50%;\n",
              "      cursor: pointer;\n",
              "      display: none;\n",
              "      fill: #1967D2;\n",
              "      height: 32px;\n",
              "      padding: 0 0 0 0;\n",
              "      width: 32px;\n",
              "    }\n",
              "\n",
              "    .colab-df-convert:hover {\n",
              "      background-color: #E2EBFA;\n",
              "      box-shadow: 0px 1px 2px rgba(60, 64, 67, 0.3), 0px 1px 3px 1px rgba(60, 64, 67, 0.15);\n",
              "      fill: #174EA6;\n",
              "    }\n",
              "\n",
              "    .colab-df-buttons div {\n",
              "      margin-bottom: 4px;\n",
              "    }\n",
              "\n",
              "    [theme=dark] .colab-df-convert {\n",
              "      background-color: #3B4455;\n",
              "      fill: #D2E3FC;\n",
              "    }\n",
              "\n",
              "    [theme=dark] .colab-df-convert:hover {\n",
              "      background-color: #434B5C;\n",
              "      box-shadow: 0px 1px 3px 1px rgba(0, 0, 0, 0.15);\n",
              "      filter: drop-shadow(0px 1px 2px rgba(0, 0, 0, 0.3));\n",
              "      fill: #FFFFFF;\n",
              "    }\n",
              "  </style>\n",
              "\n",
              "    <script>\n",
              "      const buttonEl =\n",
              "        document.querySelector('#df-089c7de9-6dcc-45db-a7c4-02a6b85d4601 button.colab-df-convert');\n",
              "      buttonEl.style.display =\n",
              "        google.colab.kernel.accessAllowed ? 'block' : 'none';\n",
              "\n",
              "      async function convertToInteractive(key) {\n",
              "        const element = document.querySelector('#df-089c7de9-6dcc-45db-a7c4-02a6b85d4601');\n",
              "        const dataTable =\n",
              "          await google.colab.kernel.invokeFunction('convertToInteractive',\n",
              "                                                    [key], {});\n",
              "        if (!dataTable) return;\n",
              "\n",
              "        const docLinkHtml = 'Like what you see? Visit the ' +\n",
              "          '<a target=\"_blank\" href=https://colab.research.google.com/notebooks/data_table.ipynb>data table notebook</a>'\n",
              "          + ' to learn more about interactive tables.';\n",
              "        element.innerHTML = '';\n",
              "        dataTable['output_type'] = 'display_data';\n",
              "        await google.colab.output.renderOutput(dataTable, element);\n",
              "        const docLink = document.createElement('div');\n",
              "        docLink.innerHTML = docLinkHtml;\n",
              "        element.appendChild(docLink);\n",
              "      }\n",
              "    </script>\n",
              "  </div>\n",
              "\n",
              "\n",
              "<div id=\"df-3c79c547-791c-4245-bc91-3afc06fc4773\">\n",
              "  <button class=\"colab-df-quickchart\" onclick=\"quickchart('df-3c79c547-791c-4245-bc91-3afc06fc4773')\"\n",
              "            title=\"Suggest charts\"\n",
              "            style=\"display:none;\">\n",
              "\n",
              "<svg xmlns=\"http://www.w3.org/2000/svg\" height=\"24px\"viewBox=\"0 0 24 24\"\n",
              "     width=\"24px\">\n",
              "    <g>\n",
              "        <path d=\"M19 3H5c-1.1 0-2 .9-2 2v14c0 1.1.9 2 2 2h14c1.1 0 2-.9 2-2V5c0-1.1-.9-2-2-2zM9 17H7v-7h2v7zm4 0h-2V7h2v10zm4 0h-2v-4h2v4z\"/>\n",
              "    </g>\n",
              "</svg>\n",
              "  </button>\n",
              "\n",
              "<style>\n",
              "  .colab-df-quickchart {\n",
              "      --bg-color: #E8F0FE;\n",
              "      --fill-color: #1967D2;\n",
              "      --hover-bg-color: #E2EBFA;\n",
              "      --hover-fill-color: #174EA6;\n",
              "      --disabled-fill-color: #AAA;\n",
              "      --disabled-bg-color: #DDD;\n",
              "  }\n",
              "\n",
              "  [theme=dark] .colab-df-quickchart {\n",
              "      --bg-color: #3B4455;\n",
              "      --fill-color: #D2E3FC;\n",
              "      --hover-bg-color: #434B5C;\n",
              "      --hover-fill-color: #FFFFFF;\n",
              "      --disabled-bg-color: #3B4455;\n",
              "      --disabled-fill-color: #666;\n",
              "  }\n",
              "\n",
              "  .colab-df-quickchart {\n",
              "    background-color: var(--bg-color);\n",
              "    border: none;\n",
              "    border-radius: 50%;\n",
              "    cursor: pointer;\n",
              "    display: none;\n",
              "    fill: var(--fill-color);\n",
              "    height: 32px;\n",
              "    padding: 0;\n",
              "    width: 32px;\n",
              "  }\n",
              "\n",
              "  .colab-df-quickchart:hover {\n",
              "    background-color: var(--hover-bg-color);\n",
              "    box-shadow: 0 1px 2px rgba(60, 64, 67, 0.3), 0 1px 3px 1px rgba(60, 64, 67, 0.15);\n",
              "    fill: var(--button-hover-fill-color);\n",
              "  }\n",
              "\n",
              "  .colab-df-quickchart-complete:disabled,\n",
              "  .colab-df-quickchart-complete:disabled:hover {\n",
              "    background-color: var(--disabled-bg-color);\n",
              "    fill: var(--disabled-fill-color);\n",
              "    box-shadow: none;\n",
              "  }\n",
              "\n",
              "  .colab-df-spinner {\n",
              "    border: 2px solid var(--fill-color);\n",
              "    border-color: transparent;\n",
              "    border-bottom-color: var(--fill-color);\n",
              "    animation:\n",
              "      spin 1s steps(1) infinite;\n",
              "  }\n",
              "\n",
              "  @keyframes spin {\n",
              "    0% {\n",
              "      border-color: transparent;\n",
              "      border-bottom-color: var(--fill-color);\n",
              "      border-left-color: var(--fill-color);\n",
              "    }\n",
              "    20% {\n",
              "      border-color: transparent;\n",
              "      border-left-color: var(--fill-color);\n",
              "      border-top-color: var(--fill-color);\n",
              "    }\n",
              "    30% {\n",
              "      border-color: transparent;\n",
              "      border-left-color: var(--fill-color);\n",
              "      border-top-color: var(--fill-color);\n",
              "      border-right-color: var(--fill-color);\n",
              "    }\n",
              "    40% {\n",
              "      border-color: transparent;\n",
              "      border-right-color: var(--fill-color);\n",
              "      border-top-color: var(--fill-color);\n",
              "    }\n",
              "    60% {\n",
              "      border-color: transparent;\n",
              "      border-right-color: var(--fill-color);\n",
              "    }\n",
              "    80% {\n",
              "      border-color: transparent;\n",
              "      border-right-color: var(--fill-color);\n",
              "      border-bottom-color: var(--fill-color);\n",
              "    }\n",
              "    90% {\n",
              "      border-color: transparent;\n",
              "      border-bottom-color: var(--fill-color);\n",
              "    }\n",
              "  }\n",
              "</style>\n",
              "\n",
              "  <script>\n",
              "    async function quickchart(key) {\n",
              "      const quickchartButtonEl =\n",
              "        document.querySelector('#' + key + ' button');\n",
              "      quickchartButtonEl.disabled = true;  // To prevent multiple clicks.\n",
              "      quickchartButtonEl.classList.add('colab-df-spinner');\n",
              "      try {\n",
              "        const charts = await google.colab.kernel.invokeFunction(\n",
              "            'suggestCharts', [key], {});\n",
              "      } catch (error) {\n",
              "        console.error('Error during call to suggestCharts:', error);\n",
              "      }\n",
              "      quickchartButtonEl.classList.remove('colab-df-spinner');\n",
              "      quickchartButtonEl.classList.add('colab-df-quickchart-complete');\n",
              "    }\n",
              "    (() => {\n",
              "      let quickchartButtonEl =\n",
              "        document.querySelector('#df-3c79c547-791c-4245-bc91-3afc06fc4773 button');\n",
              "      quickchartButtonEl.style.display =\n",
              "        google.colab.kernel.accessAllowed ? 'block' : 'none';\n",
              "    })();\n",
              "  </script>\n",
              "</div>\n",
              "    </div>\n",
              "  </div>\n"
            ]
          },
          "metadata": {},
          "execution_count": 67
        }
      ]
    },
    {
      "cell_type": "code",
      "source": [
        "df = pd.concat([X_df, y_df], axis=1)"
      ],
      "metadata": {
        "id": "u8mH7xjnchRb"
      },
      "execution_count": null,
      "outputs": []
    },
    {
      "cell_type": "code",
      "source": [
        "class_counts = df['DESTINATION_AIRPORT'].value_counts()"
      ],
      "metadata": {
        "id": "zUpEK1fkcinz"
      },
      "execution_count": null,
      "outputs": []
    },
    {
      "cell_type": "code",
      "source": [
        "singleton_classes = class_counts[class_counts < 2].index"
      ],
      "metadata": {
        "id": "EgQd1QyGcmVD"
      },
      "execution_count": null,
      "outputs": []
    },
    {
      "cell_type": "code",
      "source": [
        "singleton_classes"
      ],
      "metadata": {
        "colab": {
          "base_uri": "https://localhost:8080/"
        },
        "id": "BrAhrp2GdB4Z",
        "outputId": "c55db5a1-769c-4fd5-c1ce-df3c9a50c618"
      },
      "execution_count": null,
      "outputs": [
        {
          "output_type": "execute_result",
          "data": {
            "text/plain": [
              "Index(['10666'], dtype='object')"
            ]
          },
          "metadata": {},
          "execution_count": 8
        }
      ]
    },
    {
      "cell_type": "code",
      "source": [
        "df = df[~df['DESTINATION_AIRPORT'].isin(singleton_classes)]"
      ],
      "metadata": {
        "id": "Yo1MoVzYcsFD"
      },
      "execution_count": null,
      "outputs": []
    },
    {
      "cell_type": "code",
      "source": [
        "df = df.loc[:, ~df.columns.duplicated()]"
      ],
      "metadata": {
        "id": "JdBXgHQwelta"
      },
      "execution_count": null,
      "outputs": []
    },
    {
      "cell_type": "markdown",
      "source": [
        "# **Train/Test split**"
      ],
      "metadata": {
        "id": "rLJEPgMNWKMZ"
      }
    },
    {
      "cell_type": "code",
      "source": [
        "X_train, X_test, y_train, y_test = train_test_split(\n",
        "    df.drop('ARRIVAL_DELAY', axis=1),\n",
        "    df['ARRIVAL_DELAY'],\n",
        "    test_size=0.02,\n",
        "    random_state=42\n",
        ")"
      ],
      "metadata": {
        "id": "29nDgU3wSyHz"
      },
      "execution_count": null,
      "outputs": []
    },
    {
      "cell_type": "code",
      "source": [
        "label_X_train = X_train.copy()\n",
        "label_X_test = X_test.copy()"
      ],
      "metadata": {
        "id": "J5zf3EWlSeNV"
      },
      "execution_count": null,
      "outputs": []
    },
    {
      "cell_type": "markdown",
      "source": [
        "# **Encoding varchar coolumns**"
      ],
      "metadata": {
        "id": "FqaDQIx8WPTj"
      }
    },
    {
      "cell_type": "code",
      "source": [
        "label_encoder = LabelEncoder()\n",
        "label_X_train['TAIL_NUMBER'] = label_encoder.fit_transform(X_train['TAIL_NUMBER'])\n",
        "label_X_test['TAIL_NUMBER'] = label_encoder.transform(X_test['TAIL_NUMBER'])"
      ],
      "metadata": {
        "id": "dtcJ5QZ7Slpb"
      },
      "execution_count": null,
      "outputs": []
    },
    {
      "cell_type": "code",
      "source": [
        "label_encoder2 = LabelEncoder()\n",
        "label_X_train['AIRLINE'] = label_encoder2.fit_transform(X_train['AIRLINE'])\n",
        "label_X_test['AIRLINE'] = label_encoder2.transform(X_test['AIRLINE'])"
      ],
      "metadata": {
        "id": "FPCuHCrhSnzm"
      },
      "execution_count": null,
      "outputs": []
    },
    {
      "cell_type": "code",
      "source": [
        "combined_data = pd.concat([label_X_train, label_X_test])\n",
        "\n",
        "label_encoder3 = LabelEncoder()\n",
        "combined_data['ORIGIN_AIRPORT'] = label_encoder3.fit_transform(combined_data['ORIGIN_AIRPORT'])\n",
        "combined_data['DESTINATION_AIRPORT'] = label_encoder3.fit_transform(combined_data['DESTINATION_AIRPORT'])\n",
        "\n",
        "label_X_train = combined_data[:len(label_X_train)]\n",
        "label_X_test = combined_data[len(label_X_train):]"
      ],
      "metadata": {
        "id": "VhDlH8-6ZMxV"
      },
      "execution_count": null,
      "outputs": []
    },
    {
      "cell_type": "code",
      "source": [
        "X_train = label_X_train\n",
        "X_test = label_X_test"
      ],
      "metadata": {
        "id": "VHmAD-_MTBeJ"
      },
      "execution_count": null,
      "outputs": []
    },
    {
      "cell_type": "code",
      "source": [
        "best_columns = [\"ID\", \"SCHEDULED_DEPARTURE\", \"DEPARTURE_TIME\", \"DEPARTURE_DELAY\",\n",
        "                \"TAXI_OUT\", \"WHEELS_OFF\", \"SCHEDULED_ARRIVAL\", \"ORIGIN_AIRPORT\",\n",
        "                \"DESTINATION_AIRPORT\"]"
      ],
      "metadata": {
        "id": "YfAfzBtbgGzs"
      },
      "execution_count": null,
      "outputs": []
    },
    {
      "cell_type": "code",
      "source": [
        "X_train = X_train[best_columns]\n",
        "X_test = X_test[best_columns]"
      ],
      "metadata": {
        "id": "9F8CvfdDgMyI"
      },
      "execution_count": null,
      "outputs": []
    },
    {
      "cell_type": "markdown",
      "source": [
        "# **Inputing missing values**"
      ],
      "metadata": {
        "id": "Al1e2FVvWUaw"
      }
    },
    {
      "cell_type": "code",
      "source": [
        "cols_with_missing_train = X_train.columns[X_train.isnull().any()].tolist()\n",
        "cols_with_missing_test = X_test.columns[X_test.isnull().any()].tolist()\n",
        "print(cols_with_missing_train, cols_with_missing_test)\n",
        "\n",
        "cols_with_missing = list(set(cols_with_missing_train + cols_with_missing_test))\n",
        "\n",
        "numeric_cols = X_train.select_dtypes(include=['number']).columns\n",
        "categorical_cols = X_train.select_dtypes(exclude=['number']).columns\n",
        "\n",
        "numeric_transformer = Pipeline(steps=[\n",
        "    ('imputer', SimpleImputer(strategy='mean'))\n",
        "])\n",
        "\n",
        "categorical_transformer = Pipeline(steps=[\n",
        "    ('imputer', SimpleImputer(strategy='most_frequent'))\n",
        "])\n",
        "\n",
        "preprocessor = ColumnTransformer(\n",
        "    transformers=[\n",
        "        ('num', numeric_transformer, numeric_cols),\n",
        "        ('cat', categorical_transformer, categorical_cols)\n",
        "    ])\n",
        "\n",
        "imputed_X_train = pd.DataFrame(preprocessor.fit_transform(X_train))\n",
        "imputed_X_test = pd.DataFrame(preprocessor.transform(X_test))\n",
        "\n",
        "numeric_cols = X_train.select_dtypes(include=['number']).columns.tolist()\n",
        "categorical_cols = X_train.select_dtypes(exclude=['number']).columns.tolist()\n",
        "\n",
        "print(f\"Number of columns in imputed_X_train: {len(imputed_X_train.columns)}\")\n",
        "print(f\"Number of columns in imputed_X_test: {len(imputed_X_test.columns)}\")\n",
        "\n",
        "imputed_X_train.columns = numeric_cols + categorical_cols\n",
        "imputed_X_test.columns = numeric_cols + categorical_cols"
      ],
      "metadata": {
        "colab": {
          "base_uri": "https://localhost:8080/"
        },
        "id": "GZpYxcXoTda3",
        "outputId": "75e6ae9e-2a56-447a-883e-b85b115ffeaf"
      },
      "execution_count": null,
      "outputs": [
        {
          "output_type": "stream",
          "name": "stdout",
          "text": [
            "[] []\n",
            "Number of columns in imputed_X_train: 9\n",
            "Number of columns in imputed_X_test: 9\n"
          ]
        }
      ]
    },
    {
      "cell_type": "code",
      "source": [
        "X_train = imputed_X_train.astype(int)\n",
        "X_test = imputed_X_test.astype(int)"
      ],
      "metadata": {
        "id": "r1p5esyiVQyb"
      },
      "execution_count": null,
      "outputs": []
    },
    {
      "cell_type": "code",
      "source": [
        "X = X_train.drop(columns=['ID'])\n",
        "X_t = X_test.drop(columns=['ID'])"
      ],
      "metadata": {
        "id": "U7P3HR8AVTYk"
      },
      "execution_count": null,
      "outputs": []
    },
    {
      "cell_type": "markdown",
      "source": [
        "# **XGBOOST**"
      ],
      "metadata": {
        "id": "Ad_nz_DxVoCJ"
      }
    },
    {
      "cell_type": "code",
      "source": [
        "from xgboost import XGBRegressor\n",
        "\n",
        "xgb_model = XGBRegressor(n_estimators=800, learning_rate=0.05, n_jobs=4)\n",
        "\n",
        "xgb_model.fit(X, y_train)"
      ],
      "metadata": {
        "colab": {
          "base_uri": "https://localhost:8080/",
          "height": 249
        },
        "id": "9IspRI1YVqWH",
        "outputId": "8563881d-fb4e-4848-f267-0d3419799267"
      },
      "execution_count": null,
      "outputs": [
        {
          "output_type": "execute_result",
          "data": {
            "text/plain": [
              "XGBRegressor(base_score=None, booster=None, callbacks=None,\n",
              "             colsample_bylevel=None, colsample_bynode=None,\n",
              "             colsample_bytree=None, device=None, early_stopping_rounds=None,\n",
              "             enable_categorical=False, eval_metric=None, feature_types=None,\n",
              "             gamma=None, grow_policy=None, importance_type=None,\n",
              "             interaction_constraints=None, learning_rate=0.05, max_bin=None,\n",
              "             max_cat_threshold=None, max_cat_to_onehot=None,\n",
              "             max_delta_step=None, max_depth=None, max_leaves=None,\n",
              "             min_child_weight=None, missing=nan, monotone_constraints=None,\n",
              "             multi_strategy=None, n_estimators=800, n_jobs=4,\n",
              "             num_parallel_tree=None, random_state=None, ...)"
            ],
            "text/html": [
              "<style>#sk-container-id-1 {color: black;background-color: white;}#sk-container-id-1 pre{padding: 0;}#sk-container-id-1 div.sk-toggleable {background-color: white;}#sk-container-id-1 label.sk-toggleable__label {cursor: pointer;display: block;width: 100%;margin-bottom: 0;padding: 0.3em;box-sizing: border-box;text-align: center;}#sk-container-id-1 label.sk-toggleable__label-arrow:before {content: \"▸\";float: left;margin-right: 0.25em;color: #696969;}#sk-container-id-1 label.sk-toggleable__label-arrow:hover:before {color: black;}#sk-container-id-1 div.sk-estimator:hover label.sk-toggleable__label-arrow:before {color: black;}#sk-container-id-1 div.sk-toggleable__content {max-height: 0;max-width: 0;overflow: hidden;text-align: left;background-color: #f0f8ff;}#sk-container-id-1 div.sk-toggleable__content pre {margin: 0.2em;color: black;border-radius: 0.25em;background-color: #f0f8ff;}#sk-container-id-1 input.sk-toggleable__control:checked~div.sk-toggleable__content {max-height: 200px;max-width: 100%;overflow: auto;}#sk-container-id-1 input.sk-toggleable__control:checked~label.sk-toggleable__label-arrow:before {content: \"▾\";}#sk-container-id-1 div.sk-estimator input.sk-toggleable__control:checked~label.sk-toggleable__label {background-color: #d4ebff;}#sk-container-id-1 div.sk-label input.sk-toggleable__control:checked~label.sk-toggleable__label {background-color: #d4ebff;}#sk-container-id-1 input.sk-hidden--visually {border: 0;clip: rect(1px 1px 1px 1px);clip: rect(1px, 1px, 1px, 1px);height: 1px;margin: -1px;overflow: hidden;padding: 0;position: absolute;width: 1px;}#sk-container-id-1 div.sk-estimator {font-family: monospace;background-color: #f0f8ff;border: 1px dotted black;border-radius: 0.25em;box-sizing: border-box;margin-bottom: 0.5em;}#sk-container-id-1 div.sk-estimator:hover {background-color: #d4ebff;}#sk-container-id-1 div.sk-parallel-item::after {content: \"\";width: 100%;border-bottom: 1px solid gray;flex-grow: 1;}#sk-container-id-1 div.sk-label:hover label.sk-toggleable__label {background-color: #d4ebff;}#sk-container-id-1 div.sk-serial::before {content: \"\";position: absolute;border-left: 1px solid gray;box-sizing: border-box;top: 0;bottom: 0;left: 50%;z-index: 0;}#sk-container-id-1 div.sk-serial {display: flex;flex-direction: column;align-items: center;background-color: white;padding-right: 0.2em;padding-left: 0.2em;position: relative;}#sk-container-id-1 div.sk-item {position: relative;z-index: 1;}#sk-container-id-1 div.sk-parallel {display: flex;align-items: stretch;justify-content: center;background-color: white;position: relative;}#sk-container-id-1 div.sk-item::before, #sk-container-id-1 div.sk-parallel-item::before {content: \"\";position: absolute;border-left: 1px solid gray;box-sizing: border-box;top: 0;bottom: 0;left: 50%;z-index: -1;}#sk-container-id-1 div.sk-parallel-item {display: flex;flex-direction: column;z-index: 1;position: relative;background-color: white;}#sk-container-id-1 div.sk-parallel-item:first-child::after {align-self: flex-end;width: 50%;}#sk-container-id-1 div.sk-parallel-item:last-child::after {align-self: flex-start;width: 50%;}#sk-container-id-1 div.sk-parallel-item:only-child::after {width: 0;}#sk-container-id-1 div.sk-dashed-wrapped {border: 1px dashed gray;margin: 0 0.4em 0.5em 0.4em;box-sizing: border-box;padding-bottom: 0.4em;background-color: white;}#sk-container-id-1 div.sk-label label {font-family: monospace;font-weight: bold;display: inline-block;line-height: 1.2em;}#sk-container-id-1 div.sk-label-container {text-align: center;}#sk-container-id-1 div.sk-container {/* jupyter's `normalize.less` sets `[hidden] { display: none; }` but bootstrap.min.css set `[hidden] { display: none !important; }` so we also need the `!important` here to be able to override the default hidden behavior on the sphinx rendered scikit-learn.org. See: https://github.com/scikit-learn/scikit-learn/issues/21755 */display: inline-block !important;position: relative;}#sk-container-id-1 div.sk-text-repr-fallback {display: none;}</style><div id=\"sk-container-id-1\" class=\"sk-top-container\"><div class=\"sk-text-repr-fallback\"><pre>XGBRegressor(base_score=None, booster=None, callbacks=None,\n",
              "             colsample_bylevel=None, colsample_bynode=None,\n",
              "             colsample_bytree=None, device=None, early_stopping_rounds=None,\n",
              "             enable_categorical=False, eval_metric=None, feature_types=None,\n",
              "             gamma=None, grow_policy=None, importance_type=None,\n",
              "             interaction_constraints=None, learning_rate=0.05, max_bin=None,\n",
              "             max_cat_threshold=None, max_cat_to_onehot=None,\n",
              "             max_delta_step=None, max_depth=None, max_leaves=None,\n",
              "             min_child_weight=None, missing=nan, monotone_constraints=None,\n",
              "             multi_strategy=None, n_estimators=800, n_jobs=4,\n",
              "             num_parallel_tree=None, random_state=None, ...)</pre><b>In a Jupyter environment, please rerun this cell to show the HTML representation or trust the notebook. <br />On GitHub, the HTML representation is unable to render, please try loading this page with nbviewer.org.</b></div><div class=\"sk-container\" hidden><div class=\"sk-item\"><div class=\"sk-estimator sk-toggleable\"><input class=\"sk-toggleable__control sk-hidden--visually\" id=\"sk-estimator-id-1\" type=\"checkbox\" checked><label for=\"sk-estimator-id-1\" class=\"sk-toggleable__label sk-toggleable__label-arrow\">XGBRegressor</label><div class=\"sk-toggleable__content\"><pre>XGBRegressor(base_score=None, booster=None, callbacks=None,\n",
              "             colsample_bylevel=None, colsample_bynode=None,\n",
              "             colsample_bytree=None, device=None, early_stopping_rounds=None,\n",
              "             enable_categorical=False, eval_metric=None, feature_types=None,\n",
              "             gamma=None, grow_policy=None, importance_type=None,\n",
              "             interaction_constraints=None, learning_rate=0.05, max_bin=None,\n",
              "             max_cat_threshold=None, max_cat_to_onehot=None,\n",
              "             max_delta_step=None, max_depth=None, max_leaves=None,\n",
              "             min_child_weight=None, missing=nan, monotone_constraints=None,\n",
              "             multi_strategy=None, n_estimators=800, n_jobs=4,\n",
              "             num_parallel_tree=None, random_state=None, ...)</pre></div></div></div></div></div>"
            ]
          },
          "metadata": {},
          "execution_count": 22
        }
      ]
    },
    {
      "cell_type": "code",
      "source": [
        "y_test_pred = xgb_model.predict(X_t)\n",
        "\n",
        "submission_df = pd.DataFrame(data={'ID': X_test.ID.values,\n",
        "                                   'ARRIVAL_DELAY': y_test_pred.squeeze()})\n",
        "\n",
        "submission_df.to_csv(\"submission_xgboost.csv\", index=False)"
      ],
      "metadata": {
        "id": "9K0eS_lVWBMf"
      },
      "execution_count": null,
      "outputs": []
    },
    {
      "cell_type": "code",
      "source": [
        "from sklearn.metrics import mean_absolute_error, mean_squared_error, r2_score\n",
        "\n",
        "y_test = y_test\n",
        "y_pred = y_test_pred\n",
        "\n",
        "mae = mean_absolute_error(y_test, y_pred)\n",
        "mse = mean_squared_error(y_test, y_pred)\n",
        "rmse = mean_squared_error(y_test, y_pred, squared=False)\n",
        "r2 = r2_score(y_test, y_pred)\n",
        "\n",
        "\n",
        "print(f'MAE: {mae}')\n",
        "print(f'MSE: {mse}')\n",
        "print(f'RMSE: {rmse}')\n",
        "print(f'R^2: {r2}')"
      ],
      "metadata": {
        "colab": {
          "base_uri": "https://localhost:8080/"
        },
        "id": "FIH0gJKziE7Q",
        "outputId": "f417cb8c-3e9f-42e4-a988-eab1d3a4daa9"
      },
      "execution_count": null,
      "outputs": [
        {
          "output_type": "stream",
          "name": "stdout",
          "text": [
            "MAE: 7.0806175024133635\n",
            "MSE: 100.20152010062418\n",
            "RMSE: 10.010070933845782\n",
            "R^2: 0.9340263882023682\n"
          ]
        }
      ]
    },
    {
      "cell_type": "markdown",
      "source": [
        "# **DecisionTree**"
      ],
      "metadata": {
        "id": "fCWLhvoJWD4h"
      }
    },
    {
      "cell_type": "code",
      "source": [
        "from sklearn.tree import DecisionTreeRegressor\n",
        "\n",
        "tree_model = DecisionTreeRegressor(max_depth=5, min_samples_split=2, min_samples_leaf=1, max_features=None, random_state=42)\n",
        "\n",
        "tree_model.fit(X, y_train)"
      ],
      "metadata": {
        "colab": {
          "base_uri": "https://localhost:8080/",
          "height": 75
        },
        "id": "5ZkwBV8UV6Zt",
        "outputId": "de383b5b-593d-46d4-f266-e4058c209475"
      },
      "execution_count": null,
      "outputs": [
        {
          "output_type": "execute_result",
          "data": {
            "text/plain": [
              "DecisionTreeRegressor(max_depth=5, random_state=42)"
            ],
            "text/html": [
              "<style>#sk-container-id-2 {color: black;background-color: white;}#sk-container-id-2 pre{padding: 0;}#sk-container-id-2 div.sk-toggleable {background-color: white;}#sk-container-id-2 label.sk-toggleable__label {cursor: pointer;display: block;width: 100%;margin-bottom: 0;padding: 0.3em;box-sizing: border-box;text-align: center;}#sk-container-id-2 label.sk-toggleable__label-arrow:before {content: \"▸\";float: left;margin-right: 0.25em;color: #696969;}#sk-container-id-2 label.sk-toggleable__label-arrow:hover:before {color: black;}#sk-container-id-2 div.sk-estimator:hover label.sk-toggleable__label-arrow:before {color: black;}#sk-container-id-2 div.sk-toggleable__content {max-height: 0;max-width: 0;overflow: hidden;text-align: left;background-color: #f0f8ff;}#sk-container-id-2 div.sk-toggleable__content pre {margin: 0.2em;color: black;border-radius: 0.25em;background-color: #f0f8ff;}#sk-container-id-2 input.sk-toggleable__control:checked~div.sk-toggleable__content {max-height: 200px;max-width: 100%;overflow: auto;}#sk-container-id-2 input.sk-toggleable__control:checked~label.sk-toggleable__label-arrow:before {content: \"▾\";}#sk-container-id-2 div.sk-estimator input.sk-toggleable__control:checked~label.sk-toggleable__label {background-color: #d4ebff;}#sk-container-id-2 div.sk-label input.sk-toggleable__control:checked~label.sk-toggleable__label {background-color: #d4ebff;}#sk-container-id-2 input.sk-hidden--visually {border: 0;clip: rect(1px 1px 1px 1px);clip: rect(1px, 1px, 1px, 1px);height: 1px;margin: -1px;overflow: hidden;padding: 0;position: absolute;width: 1px;}#sk-container-id-2 div.sk-estimator {font-family: monospace;background-color: #f0f8ff;border: 1px dotted black;border-radius: 0.25em;box-sizing: border-box;margin-bottom: 0.5em;}#sk-container-id-2 div.sk-estimator:hover {background-color: #d4ebff;}#sk-container-id-2 div.sk-parallel-item::after {content: \"\";width: 100%;border-bottom: 1px solid gray;flex-grow: 1;}#sk-container-id-2 div.sk-label:hover label.sk-toggleable__label {background-color: #d4ebff;}#sk-container-id-2 div.sk-serial::before {content: \"\";position: absolute;border-left: 1px solid gray;box-sizing: border-box;top: 0;bottom: 0;left: 50%;z-index: 0;}#sk-container-id-2 div.sk-serial {display: flex;flex-direction: column;align-items: center;background-color: white;padding-right: 0.2em;padding-left: 0.2em;position: relative;}#sk-container-id-2 div.sk-item {position: relative;z-index: 1;}#sk-container-id-2 div.sk-parallel {display: flex;align-items: stretch;justify-content: center;background-color: white;position: relative;}#sk-container-id-2 div.sk-item::before, #sk-container-id-2 div.sk-parallel-item::before {content: \"\";position: absolute;border-left: 1px solid gray;box-sizing: border-box;top: 0;bottom: 0;left: 50%;z-index: -1;}#sk-container-id-2 div.sk-parallel-item {display: flex;flex-direction: column;z-index: 1;position: relative;background-color: white;}#sk-container-id-2 div.sk-parallel-item:first-child::after {align-self: flex-end;width: 50%;}#sk-container-id-2 div.sk-parallel-item:last-child::after {align-self: flex-start;width: 50%;}#sk-container-id-2 div.sk-parallel-item:only-child::after {width: 0;}#sk-container-id-2 div.sk-dashed-wrapped {border: 1px dashed gray;margin: 0 0.4em 0.5em 0.4em;box-sizing: border-box;padding-bottom: 0.4em;background-color: white;}#sk-container-id-2 div.sk-label label {font-family: monospace;font-weight: bold;display: inline-block;line-height: 1.2em;}#sk-container-id-2 div.sk-label-container {text-align: center;}#sk-container-id-2 div.sk-container {/* jupyter's `normalize.less` sets `[hidden] { display: none; }` but bootstrap.min.css set `[hidden] { display: none !important; }` so we also need the `!important` here to be able to override the default hidden behavior on the sphinx rendered scikit-learn.org. See: https://github.com/scikit-learn/scikit-learn/issues/21755 */display: inline-block !important;position: relative;}#sk-container-id-2 div.sk-text-repr-fallback {display: none;}</style><div id=\"sk-container-id-2\" class=\"sk-top-container\"><div class=\"sk-text-repr-fallback\"><pre>DecisionTreeRegressor(max_depth=5, random_state=42)</pre><b>In a Jupyter environment, please rerun this cell to show the HTML representation or trust the notebook. <br />On GitHub, the HTML representation is unable to render, please try loading this page with nbviewer.org.</b></div><div class=\"sk-container\" hidden><div class=\"sk-item\"><div class=\"sk-estimator sk-toggleable\"><input class=\"sk-toggleable__control sk-hidden--visually\" id=\"sk-estimator-id-2\" type=\"checkbox\" checked><label for=\"sk-estimator-id-2\" class=\"sk-toggleable__label sk-toggleable__label-arrow\">DecisionTreeRegressor</label><div class=\"sk-toggleable__content\"><pre>DecisionTreeRegressor(max_depth=5, random_state=42)</pre></div></div></div></div></div>"
            ]
          },
          "metadata": {},
          "execution_count": 25
        }
      ]
    },
    {
      "cell_type": "code",
      "source": [
        "y_test_pred = tree_model.predict(X_t)\n",
        "\n",
        "submission_df = pd.DataFrame(data={'ID': X_test.ID.values,\n",
        "                                   'ARRIVAL_DELAY': y_test_pred.squeeze()})\n",
        "\n",
        "submission_df.to_csv(\"submission_decision_tree.csv\", index=False)"
      ],
      "metadata": {
        "id": "D6c2_WY_V_d2"
      },
      "execution_count": null,
      "outputs": []
    },
    {
      "cell_type": "code",
      "source": [
        "y_test = y_test\n",
        "y_pred = y_test_pred\n",
        "\n",
        "mae = mean_absolute_error(y_test, y_pred)\n",
        "mse = mean_squared_error(y_test, y_pred)\n",
        "rmse = mean_squared_error(y_test, y_pred, squared=False)\n",
        "r2 = r2_score(y_test, y_pred)\n",
        "\n",
        "\n",
        "print(f'MAE: {mae}')\n",
        "print(f'MSE: {mse}')\n",
        "print(f'RMSE: {rmse}')\n",
        "print(f'R^2: {r2}')"
      ],
      "metadata": {
        "colab": {
          "base_uri": "https://localhost:8080/"
        },
        "id": "cWXfnKi4j_XB",
        "outputId": "84e097a1-ab7d-4ae9-f0b8-fc97b7211de8"
      },
      "execution_count": null,
      "outputs": [
        {
          "output_type": "stream",
          "name": "stdout",
          "text": [
            "MAE: 8.64500023593921\n",
            "MSE: 142.415420852133\n",
            "RMSE: 11.93379322982148\n",
            "R^2: 0.9062323637419902\n"
          ]
        }
      ]
    },
    {
      "cell_type": "markdown",
      "source": [
        "# **RANDOM FOREST**"
      ],
      "metadata": {
        "id": "JZjD2gBEke_M"
      }
    },
    {
      "cell_type": "code",
      "source": [
        "from sklearn.ensemble import RandomForestRegressor\n",
        "\n",
        "forest_model = RandomForestRegressor(n_estimators = 12, verbose=True)\n",
        "forest_model.fit(X, y_train)"
      ],
      "metadata": {
        "colab": {
          "base_uri": "https://localhost:8080/",
          "height": 75
        },
        "id": "5BvvWKGKkhgp",
        "outputId": "3d5c4585-bc21-4e36-d40e-0f0d159897fa"
      },
      "execution_count": null,
      "outputs": [
        {
          "output_type": "execute_result",
          "data": {
            "text/plain": [
              "RandomForestRegressor(n_estimators=12, verbose=True)"
            ],
            "text/html": [
              "<style>#sk-container-id-3 {color: black;background-color: white;}#sk-container-id-3 pre{padding: 0;}#sk-container-id-3 div.sk-toggleable {background-color: white;}#sk-container-id-3 label.sk-toggleable__label {cursor: pointer;display: block;width: 100%;margin-bottom: 0;padding: 0.3em;box-sizing: border-box;text-align: center;}#sk-container-id-3 label.sk-toggleable__label-arrow:before {content: \"▸\";float: left;margin-right: 0.25em;color: #696969;}#sk-container-id-3 label.sk-toggleable__label-arrow:hover:before {color: black;}#sk-container-id-3 div.sk-estimator:hover label.sk-toggleable__label-arrow:before {color: black;}#sk-container-id-3 div.sk-toggleable__content {max-height: 0;max-width: 0;overflow: hidden;text-align: left;background-color: #f0f8ff;}#sk-container-id-3 div.sk-toggleable__content pre {margin: 0.2em;color: black;border-radius: 0.25em;background-color: #f0f8ff;}#sk-container-id-3 input.sk-toggleable__control:checked~div.sk-toggleable__content {max-height: 200px;max-width: 100%;overflow: auto;}#sk-container-id-3 input.sk-toggleable__control:checked~label.sk-toggleable__label-arrow:before {content: \"▾\";}#sk-container-id-3 div.sk-estimator input.sk-toggleable__control:checked~label.sk-toggleable__label {background-color: #d4ebff;}#sk-container-id-3 div.sk-label input.sk-toggleable__control:checked~label.sk-toggleable__label {background-color: #d4ebff;}#sk-container-id-3 input.sk-hidden--visually {border: 0;clip: rect(1px 1px 1px 1px);clip: rect(1px, 1px, 1px, 1px);height: 1px;margin: -1px;overflow: hidden;padding: 0;position: absolute;width: 1px;}#sk-container-id-3 div.sk-estimator {font-family: monospace;background-color: #f0f8ff;border: 1px dotted black;border-radius: 0.25em;box-sizing: border-box;margin-bottom: 0.5em;}#sk-container-id-3 div.sk-estimator:hover {background-color: #d4ebff;}#sk-container-id-3 div.sk-parallel-item::after {content: \"\";width: 100%;border-bottom: 1px solid gray;flex-grow: 1;}#sk-container-id-3 div.sk-label:hover label.sk-toggleable__label {background-color: #d4ebff;}#sk-container-id-3 div.sk-serial::before {content: \"\";position: absolute;border-left: 1px solid gray;box-sizing: border-box;top: 0;bottom: 0;left: 50%;z-index: 0;}#sk-container-id-3 div.sk-serial {display: flex;flex-direction: column;align-items: center;background-color: white;padding-right: 0.2em;padding-left: 0.2em;position: relative;}#sk-container-id-3 div.sk-item {position: relative;z-index: 1;}#sk-container-id-3 div.sk-parallel {display: flex;align-items: stretch;justify-content: center;background-color: white;position: relative;}#sk-container-id-3 div.sk-item::before, #sk-container-id-3 div.sk-parallel-item::before {content: \"\";position: absolute;border-left: 1px solid gray;box-sizing: border-box;top: 0;bottom: 0;left: 50%;z-index: -1;}#sk-container-id-3 div.sk-parallel-item {display: flex;flex-direction: column;z-index: 1;position: relative;background-color: white;}#sk-container-id-3 div.sk-parallel-item:first-child::after {align-self: flex-end;width: 50%;}#sk-container-id-3 div.sk-parallel-item:last-child::after {align-self: flex-start;width: 50%;}#sk-container-id-3 div.sk-parallel-item:only-child::after {width: 0;}#sk-container-id-3 div.sk-dashed-wrapped {border: 1px dashed gray;margin: 0 0.4em 0.5em 0.4em;box-sizing: border-box;padding-bottom: 0.4em;background-color: white;}#sk-container-id-3 div.sk-label label {font-family: monospace;font-weight: bold;display: inline-block;line-height: 1.2em;}#sk-container-id-3 div.sk-label-container {text-align: center;}#sk-container-id-3 div.sk-container {/* jupyter's `normalize.less` sets `[hidden] { display: none; }` but bootstrap.min.css set `[hidden] { display: none !important; }` so we also need the `!important` here to be able to override the default hidden behavior on the sphinx rendered scikit-learn.org. See: https://github.com/scikit-learn/scikit-learn/issues/21755 */display: inline-block !important;position: relative;}#sk-container-id-3 div.sk-text-repr-fallback {display: none;}</style><div id=\"sk-container-id-3\" class=\"sk-top-container\"><div class=\"sk-text-repr-fallback\"><pre>RandomForestRegressor(n_estimators=12, verbose=True)</pre><b>In a Jupyter environment, please rerun this cell to show the HTML representation or trust the notebook. <br />On GitHub, the HTML representation is unable to render, please try loading this page with nbviewer.org.</b></div><div class=\"sk-container\" hidden><div class=\"sk-item\"><div class=\"sk-estimator sk-toggleable\"><input class=\"sk-toggleable__control sk-hidden--visually\" id=\"sk-estimator-id-3\" type=\"checkbox\" checked><label for=\"sk-estimator-id-3\" class=\"sk-toggleable__label sk-toggleable__label-arrow\">RandomForestRegressor</label><div class=\"sk-toggleable__content\"><pre>RandomForestRegressor(n_estimators=12, verbose=True)</pre></div></div></div></div></div>"
            ]
          },
          "metadata": {},
          "execution_count": 28
        }
      ]
    },
    {
      "cell_type": "code",
      "source": [
        "y_test_pred = forest_model.predict(X_t)\n",
        "\n",
        "submission_df = pd.DataFrame(data={'ID': X_test.ID.values,\n",
        "                                   'ARRIVAL_DELAY': y_test_pred.squeeze()})\n",
        "\n",
        "submission_df.to_csv(\"submission_forest.csv\", index=False)"
      ],
      "metadata": {
        "colab": {
          "base_uri": "https://localhost:8080/",
          "height": 355
        },
        "id": "BYWeWSvbkkBw",
        "outputId": "8014eedb-d652-4966-e649-490f92a38d5c"
      },
      "execution_count": null,
      "outputs": [
        {
          "output_type": "error",
          "ename": "OSError",
          "evalue": "Cannot save file into a non-existent directory: '/kaggle/working'",
          "traceback": [
            "\u001b[0;31m---------------------------------------------------------------------------\u001b[0m",
            "\u001b[0;31mOSError\u001b[0m                                   Traceback (most recent call last)",
            "\u001b[0;32m<ipython-input-29-84112e7983f3>\u001b[0m in \u001b[0;36m<cell line: 6>\u001b[0;34m()\u001b[0m\n\u001b[1;32m      4\u001b[0m                                    'ARRIVAL_DELAY': y_test_pred.squeeze()})\n\u001b[1;32m      5\u001b[0m \u001b[0;34m\u001b[0m\u001b[0m\n\u001b[0;32m----> 6\u001b[0;31m \u001b[0msubmission_df\u001b[0m\u001b[0;34m.\u001b[0m\u001b[0mto_csv\u001b[0m\u001b[0;34m(\u001b[0m\u001b[0;34m\"/kaggle/working/submission_forest.csv\"\u001b[0m\u001b[0;34m,\u001b[0m \u001b[0mindex\u001b[0m\u001b[0;34m=\u001b[0m\u001b[0;32mFalse\u001b[0m\u001b[0;34m)\u001b[0m\u001b[0;34m\u001b[0m\u001b[0;34m\u001b[0m\u001b[0m\n\u001b[0m",
            "\u001b[0;32m/usr/local/lib/python3.10/dist-packages/pandas/util/_decorators.py\u001b[0m in \u001b[0;36mwrapper\u001b[0;34m(*args, **kwargs)\u001b[0m\n\u001b[1;32m    209\u001b[0m                 \u001b[0;32melse\u001b[0m\u001b[0;34m:\u001b[0m\u001b[0;34m\u001b[0m\u001b[0;34m\u001b[0m\u001b[0m\n\u001b[1;32m    210\u001b[0m                     \u001b[0mkwargs\u001b[0m\u001b[0;34m[\u001b[0m\u001b[0mnew_arg_name\u001b[0m\u001b[0;34m]\u001b[0m \u001b[0;34m=\u001b[0m \u001b[0mnew_arg_value\u001b[0m\u001b[0;34m\u001b[0m\u001b[0;34m\u001b[0m\u001b[0m\n\u001b[0;32m--> 211\u001b[0;31m             \u001b[0;32mreturn\u001b[0m \u001b[0mfunc\u001b[0m\u001b[0;34m(\u001b[0m\u001b[0;34m*\u001b[0m\u001b[0margs\u001b[0m\u001b[0;34m,\u001b[0m \u001b[0;34m**\u001b[0m\u001b[0mkwargs\u001b[0m\u001b[0;34m)\u001b[0m\u001b[0;34m\u001b[0m\u001b[0;34m\u001b[0m\u001b[0m\n\u001b[0m\u001b[1;32m    212\u001b[0m \u001b[0;34m\u001b[0m\u001b[0m\n\u001b[1;32m    213\u001b[0m         \u001b[0;32mreturn\u001b[0m \u001b[0mcast\u001b[0m\u001b[0;34m(\u001b[0m\u001b[0mF\u001b[0m\u001b[0;34m,\u001b[0m \u001b[0mwrapper\u001b[0m\u001b[0;34m)\u001b[0m\u001b[0;34m\u001b[0m\u001b[0;34m\u001b[0m\u001b[0m\n",
            "\u001b[0;32m/usr/local/lib/python3.10/dist-packages/pandas/core/generic.py\u001b[0m in \u001b[0;36mto_csv\u001b[0;34m(self, path_or_buf, sep, na_rep, float_format, columns, header, index, index_label, mode, encoding, compression, quoting, quotechar, lineterminator, chunksize, date_format, doublequote, escapechar, decimal, errors, storage_options)\u001b[0m\n\u001b[1;32m   3718\u001b[0m         )\n\u001b[1;32m   3719\u001b[0m \u001b[0;34m\u001b[0m\u001b[0m\n\u001b[0;32m-> 3720\u001b[0;31m         return DataFrameRenderer(formatter).to_csv(\n\u001b[0m\u001b[1;32m   3721\u001b[0m             \u001b[0mpath_or_buf\u001b[0m\u001b[0;34m,\u001b[0m\u001b[0;34m\u001b[0m\u001b[0;34m\u001b[0m\u001b[0m\n\u001b[1;32m   3722\u001b[0m             \u001b[0mlineterminator\u001b[0m\u001b[0;34m=\u001b[0m\u001b[0mlineterminator\u001b[0m\u001b[0;34m,\u001b[0m\u001b[0;34m\u001b[0m\u001b[0;34m\u001b[0m\u001b[0m\n",
            "\u001b[0;32m/usr/local/lib/python3.10/dist-packages/pandas/util/_decorators.py\u001b[0m in \u001b[0;36mwrapper\u001b[0;34m(*args, **kwargs)\u001b[0m\n\u001b[1;32m    209\u001b[0m                 \u001b[0;32melse\u001b[0m\u001b[0;34m:\u001b[0m\u001b[0;34m\u001b[0m\u001b[0;34m\u001b[0m\u001b[0m\n\u001b[1;32m    210\u001b[0m                     \u001b[0mkwargs\u001b[0m\u001b[0;34m[\u001b[0m\u001b[0mnew_arg_name\u001b[0m\u001b[0;34m]\u001b[0m \u001b[0;34m=\u001b[0m \u001b[0mnew_arg_value\u001b[0m\u001b[0;34m\u001b[0m\u001b[0;34m\u001b[0m\u001b[0m\n\u001b[0;32m--> 211\u001b[0;31m             \u001b[0;32mreturn\u001b[0m \u001b[0mfunc\u001b[0m\u001b[0;34m(\u001b[0m\u001b[0;34m*\u001b[0m\u001b[0margs\u001b[0m\u001b[0;34m,\u001b[0m \u001b[0;34m**\u001b[0m\u001b[0mkwargs\u001b[0m\u001b[0;34m)\u001b[0m\u001b[0;34m\u001b[0m\u001b[0;34m\u001b[0m\u001b[0m\n\u001b[0m\u001b[1;32m    212\u001b[0m \u001b[0;34m\u001b[0m\u001b[0m\n\u001b[1;32m    213\u001b[0m         \u001b[0;32mreturn\u001b[0m \u001b[0mcast\u001b[0m\u001b[0;34m(\u001b[0m\u001b[0mF\u001b[0m\u001b[0;34m,\u001b[0m \u001b[0mwrapper\u001b[0m\u001b[0;34m)\u001b[0m\u001b[0;34m\u001b[0m\u001b[0;34m\u001b[0m\u001b[0m\n",
            "\u001b[0;32m/usr/local/lib/python3.10/dist-packages/pandas/io/formats/format.py\u001b[0m in \u001b[0;36mto_csv\u001b[0;34m(self, path_or_buf, encoding, sep, columns, index_label, mode, compression, quoting, quotechar, lineterminator, chunksize, date_format, doublequote, escapechar, errors, storage_options)\u001b[0m\n\u001b[1;32m   1187\u001b[0m             \u001b[0mformatter\u001b[0m\u001b[0;34m=\u001b[0m\u001b[0mself\u001b[0m\u001b[0;34m.\u001b[0m\u001b[0mfmt\u001b[0m\u001b[0;34m,\u001b[0m\u001b[0;34m\u001b[0m\u001b[0;34m\u001b[0m\u001b[0m\n\u001b[1;32m   1188\u001b[0m         )\n\u001b[0;32m-> 1189\u001b[0;31m         \u001b[0mcsv_formatter\u001b[0m\u001b[0;34m.\u001b[0m\u001b[0msave\u001b[0m\u001b[0;34m(\u001b[0m\u001b[0;34m)\u001b[0m\u001b[0;34m\u001b[0m\u001b[0;34m\u001b[0m\u001b[0m\n\u001b[0m\u001b[1;32m   1190\u001b[0m \u001b[0;34m\u001b[0m\u001b[0m\n\u001b[1;32m   1191\u001b[0m         \u001b[0;32mif\u001b[0m \u001b[0mcreated_buffer\u001b[0m\u001b[0;34m:\u001b[0m\u001b[0;34m\u001b[0m\u001b[0;34m\u001b[0m\u001b[0m\n",
            "\u001b[0;32m/usr/local/lib/python3.10/dist-packages/pandas/io/formats/csvs.py\u001b[0m in \u001b[0;36msave\u001b[0;34m(self)\u001b[0m\n\u001b[1;32m    239\u001b[0m         \"\"\"\n\u001b[1;32m    240\u001b[0m         \u001b[0;31m# apply compression and byte/text conversion\u001b[0m\u001b[0;34m\u001b[0m\u001b[0;34m\u001b[0m\u001b[0m\n\u001b[0;32m--> 241\u001b[0;31m         with get_handle(\n\u001b[0m\u001b[1;32m    242\u001b[0m             \u001b[0mself\u001b[0m\u001b[0;34m.\u001b[0m\u001b[0mfilepath_or_buffer\u001b[0m\u001b[0;34m,\u001b[0m\u001b[0;34m\u001b[0m\u001b[0;34m\u001b[0m\u001b[0m\n\u001b[1;32m    243\u001b[0m             \u001b[0mself\u001b[0m\u001b[0;34m.\u001b[0m\u001b[0mmode\u001b[0m\u001b[0;34m,\u001b[0m\u001b[0;34m\u001b[0m\u001b[0;34m\u001b[0m\u001b[0m\n",
            "\u001b[0;32m/usr/local/lib/python3.10/dist-packages/pandas/io/common.py\u001b[0m in \u001b[0;36mget_handle\u001b[0;34m(path_or_buf, mode, encoding, compression, memory_map, is_text, errors, storage_options)\u001b[0m\n\u001b[1;32m    732\u001b[0m     \u001b[0;31m# Only for write methods\u001b[0m\u001b[0;34m\u001b[0m\u001b[0;34m\u001b[0m\u001b[0m\n\u001b[1;32m    733\u001b[0m     \u001b[0;32mif\u001b[0m \u001b[0;34m\"r\"\u001b[0m \u001b[0;32mnot\u001b[0m \u001b[0;32min\u001b[0m \u001b[0mmode\u001b[0m \u001b[0;32mand\u001b[0m \u001b[0mis_path\u001b[0m\u001b[0;34m:\u001b[0m\u001b[0;34m\u001b[0m\u001b[0;34m\u001b[0m\u001b[0m\n\u001b[0;32m--> 734\u001b[0;31m         \u001b[0mcheck_parent_directory\u001b[0m\u001b[0;34m(\u001b[0m\u001b[0mstr\u001b[0m\u001b[0;34m(\u001b[0m\u001b[0mhandle\u001b[0m\u001b[0;34m)\u001b[0m\u001b[0;34m)\u001b[0m\u001b[0;34m\u001b[0m\u001b[0;34m\u001b[0m\u001b[0m\n\u001b[0m\u001b[1;32m    735\u001b[0m \u001b[0;34m\u001b[0m\u001b[0m\n\u001b[1;32m    736\u001b[0m     \u001b[0;32mif\u001b[0m \u001b[0mcompression\u001b[0m\u001b[0;34m:\u001b[0m\u001b[0;34m\u001b[0m\u001b[0;34m\u001b[0m\u001b[0m\n",
            "\u001b[0;32m/usr/local/lib/python3.10/dist-packages/pandas/io/common.py\u001b[0m in \u001b[0;36mcheck_parent_directory\u001b[0;34m(path)\u001b[0m\n\u001b[1;32m    595\u001b[0m     \u001b[0mparent\u001b[0m \u001b[0;34m=\u001b[0m \u001b[0mPath\u001b[0m\u001b[0;34m(\u001b[0m\u001b[0mpath\u001b[0m\u001b[0;34m)\u001b[0m\u001b[0;34m.\u001b[0m\u001b[0mparent\u001b[0m\u001b[0;34m\u001b[0m\u001b[0;34m\u001b[0m\u001b[0m\n\u001b[1;32m    596\u001b[0m     \u001b[0;32mif\u001b[0m \u001b[0;32mnot\u001b[0m \u001b[0mparent\u001b[0m\u001b[0;34m.\u001b[0m\u001b[0mis_dir\u001b[0m\u001b[0;34m(\u001b[0m\u001b[0;34m)\u001b[0m\u001b[0;34m:\u001b[0m\u001b[0;34m\u001b[0m\u001b[0;34m\u001b[0m\u001b[0m\n\u001b[0;32m--> 597\u001b[0;31m         \u001b[0;32mraise\u001b[0m \u001b[0mOSError\u001b[0m\u001b[0;34m(\u001b[0m\u001b[0;34mrf\"Cannot save file into a non-existent directory: '{parent}'\"\u001b[0m\u001b[0;34m)\u001b[0m\u001b[0;34m\u001b[0m\u001b[0;34m\u001b[0m\u001b[0m\n\u001b[0m\u001b[1;32m    598\u001b[0m \u001b[0;34m\u001b[0m\u001b[0m\n\u001b[1;32m    599\u001b[0m \u001b[0;34m\u001b[0m\u001b[0m\n",
            "\u001b[0;31mOSError\u001b[0m: Cannot save file into a non-existent directory: '/kaggle/working'"
          ]
        }
      ]
    },
    {
      "cell_type": "code",
      "source": [
        "y_test = y_test\n",
        "y_pred = y_test_pred\n",
        "\n",
        "mae = mean_absolute_error(y_test, y_pred)\n",
        "mse = mean_squared_error(y_test, y_pred)\n",
        "rmse = mean_squared_error(y_test, y_pred, squared=False)\n",
        "r2 = r2_score(y_test, y_pred)\n",
        "\n",
        "\n",
        "print(f'MAE: {mae}')\n",
        "print(f'MSE: {mse}')\n",
        "print(f'RMSE: {rmse}')\n",
        "print(f'R^2: {r2}')"
      ],
      "metadata": {
        "colab": {
          "base_uri": "https://localhost:8080/"
        },
        "id": "gkxNqWXiks6n",
        "outputId": "35f2d10b-e791-4e9f-f8dd-bde8488cef20"
      },
      "execution_count": null,
      "outputs": [
        {
          "output_type": "stream",
          "name": "stdout",
          "text": [
            "MAE: 7.452251232384279\n",
            "MSE: 109.99670789822024\n",
            "RMSE: 10.48793153573288\n",
            "R^2: 0.9275771455502153\n"
          ]
        }
      ]
    },
    {
      "cell_type": "markdown",
      "source": [
        "# **Wyniki**"
      ],
      "metadata": {
        "id": "jluJsFiByjw2"
      }
    },
    {
      "cell_type": "code",
      "source": [
        "data = {\n",
        "    'Model': ['XGBOOST', 'DecisionTree', 'RANDOM FOREST'],\n",
        "    'MAE': [7.08, 8.65, 7.45],\n",
        "    'MSE': [100, 142, 110],\n",
        "    'RMSE': [10, 11.93, 10.49],\n",
        "    'R^2': [0.93, 0.90, 0.93]\n",
        "}\n",
        "\n",
        "df = pd.DataFrame(data)\n"
      ],
      "metadata": {
        "id": "FBS4HxRKZRFo"
      },
      "execution_count": null,
      "outputs": []
    },
    {
      "cell_type": "code",
      "source": [
        "print(df)"
      ],
      "metadata": {
        "colab": {
          "base_uri": "https://localhost:8080/"
        },
        "id": "yLR6dwLVZ32x",
        "outputId": "5eae56d0-d169-4364-9151-ff854463ba80"
      },
      "execution_count": null,
      "outputs": [
        {
          "output_type": "stream",
          "name": "stdout",
          "text": [
            "           Model   MAE  MSE   RMSE   R^2\n",
            "0        XGBOOST  7.08  100  10.00  0.93\n",
            "1   DecisionTree  8.65  142  11.93  0.90\n",
            "2  RANDOM FOREST  7.45  110  10.49  0.93\n"
          ]
        }
      ]
    },
    {
      "cell_type": "markdown",
      "source": [
        "# **+Reprezentacja lotnisk**"
      ],
      "metadata": {
        "id": "Ywumo6ypeT-5"
      }
    },
    {
      "cell_type": "code",
      "source": [
        "import numpy as np\n",
        "import ast"
      ],
      "metadata": {
        "id": "N9dmAKbhi6yn"
      },
      "execution_count": null,
      "outputs": []
    },
    {
      "cell_type": "code",
      "source": [
        "X_df = pd.read_csv(\"drive/MyDrive/GEOSpatial/features.csv\")\n",
        "y_df = pd.read_csv(\"drive/MyDrive/GEOSpatial/targets.csv\")"
      ],
      "metadata": {
        "id": "li8o_b9yeTVA"
      },
      "execution_count": null,
      "outputs": []
    },
    {
      "cell_type": "code",
      "source": [
        "X_rep = pd.read_csv(\"drive/MyDrive/GEOSpatial/airport_representation-2.csv\") #1 option\n",
        "#X_rep = pd.read_csv(\"drive/MyDrive/GEOSpatial/airport_representation-2.csv\") #2 option"
      ],
      "metadata": {
        "id": "qSASrUQ0ekus"
      },
      "execution_count": null,
      "outputs": []
    },
    {
      "cell_type": "code",
      "source": [
        "X_rep['Representation'] = X_rep['Representation'].apply(lambda x: np.array(ast.literal_eval(x), dtype=np.float))"
      ],
      "metadata": {
        "colab": {
          "base_uri": "https://localhost:8080/"
        },
        "id": "s9zzSRR8i5D9",
        "outputId": "b6aa611e-10e8-4be7-d662-5bdfce2b327f"
      },
      "execution_count": null,
      "outputs": [
        {
          "output_type": "stream",
          "name": "stderr",
          "text": [
            "<ipython-input-8-50c80bcd073c>:1: DeprecationWarning: `np.float` is a deprecated alias for the builtin `float`. To silence this warning, use `float` by itself. Doing this will not modify any behavior and is safe. If you specifically wanted the numpy scalar type, use `np.float64` here.\n",
            "Deprecated in NumPy 1.20; for more details and guidance: https://numpy.org/devdocs/release/1.20.0-notes.html#deprecations\n",
            "  X_rep['Representation'] = X_rep['Representation'].apply(lambda x: np.array(ast.literal_eval(x), dtype=np.float))\n"
          ]
        }
      ]
    },
    {
      "cell_type": "code",
      "source": [
        "X_rep"
      ],
      "metadata": {
        "colab": {
          "base_uri": "https://localhost:8080/"
        },
        "id": "Zfv4xVWuis3h",
        "outputId": "0bcea9e1-289e-44e7-86f5-607f3937f5b2"
      },
      "execution_count": null,
      "outputs": [
        {
          "output_type": "execute_result",
          "data": {
            "text/plain": [
              "    Airport                                     Representation\n",
              "0       DFW  [1.2297251224517822, 0.16540391743183136, 0.63...\n",
              "1       BWI  [1.41794753074646, 0.13733047246932983, 0.2455...\n",
              "2       SMF  [0.017414767295122147, 0.13441374897956848, 0....\n",
              "3       ONT  [0.0, 0.10550469905138016, 0.49953240156173706...\n",
              "4       LCH  [0.01567821018397808, 0.004727749153971672, 0....\n",
              "..      ...                                                ...\n",
              "317     ILG  [0.42490682005882263, 0.0, 0.0, 0.0, 0.1501445...\n",
              "318     AKN  [0.0, 0.0, 0.0, 0.0, 0.0, 0.0, 0.0, 0.0, 0.605...\n",
              "319     GST  [0.0, 0.0, 0.007566665764898062, 0.0, 0.0, 0.0...\n",
              "320     CNY  [0.0, 0.0, 0.0, 0.0, 0.0, 0.0, 0.0, 0.0, 0.156...\n",
              "321     ITH  [0.48981326818466187, 0.08282214403152466, 0.0...\n",
              "\n",
              "[322 rows x 2 columns]"
            ],
            "text/html": [
              "\n",
              "  <div id=\"df-90ea8206-5459-4485-a984-66e427fdc49e\" class=\"colab-df-container\">\n",
              "    <div>\n",
              "<style scoped>\n",
              "    .dataframe tbody tr th:only-of-type {\n",
              "        vertical-align: middle;\n",
              "    }\n",
              "\n",
              "    .dataframe tbody tr th {\n",
              "        vertical-align: top;\n",
              "    }\n",
              "\n",
              "    .dataframe thead th {\n",
              "        text-align: right;\n",
              "    }\n",
              "</style>\n",
              "<table border=\"1\" class=\"dataframe\">\n",
              "  <thead>\n",
              "    <tr style=\"text-align: right;\">\n",
              "      <th></th>\n",
              "      <th>Airport</th>\n",
              "      <th>Representation</th>\n",
              "    </tr>\n",
              "  </thead>\n",
              "  <tbody>\n",
              "    <tr>\n",
              "      <th>0</th>\n",
              "      <td>DFW</td>\n",
              "      <td>[1.2297251224517822, 0.16540391743183136, 0.63...</td>\n",
              "    </tr>\n",
              "    <tr>\n",
              "      <th>1</th>\n",
              "      <td>BWI</td>\n",
              "      <td>[1.41794753074646, 0.13733047246932983, 0.2455...</td>\n",
              "    </tr>\n",
              "    <tr>\n",
              "      <th>2</th>\n",
              "      <td>SMF</td>\n",
              "      <td>[0.017414767295122147, 0.13441374897956848, 0....</td>\n",
              "    </tr>\n",
              "    <tr>\n",
              "      <th>3</th>\n",
              "      <td>ONT</td>\n",
              "      <td>[0.0, 0.10550469905138016, 0.49953240156173706...</td>\n",
              "    </tr>\n",
              "    <tr>\n",
              "      <th>4</th>\n",
              "      <td>LCH</td>\n",
              "      <td>[0.01567821018397808, 0.004727749153971672, 0....</td>\n",
              "    </tr>\n",
              "    <tr>\n",
              "      <th>...</th>\n",
              "      <td>...</td>\n",
              "      <td>...</td>\n",
              "    </tr>\n",
              "    <tr>\n",
              "      <th>317</th>\n",
              "      <td>ILG</td>\n",
              "      <td>[0.42490682005882263, 0.0, 0.0, 0.0, 0.1501445...</td>\n",
              "    </tr>\n",
              "    <tr>\n",
              "      <th>318</th>\n",
              "      <td>AKN</td>\n",
              "      <td>[0.0, 0.0, 0.0, 0.0, 0.0, 0.0, 0.0, 0.0, 0.605...</td>\n",
              "    </tr>\n",
              "    <tr>\n",
              "      <th>319</th>\n",
              "      <td>GST</td>\n",
              "      <td>[0.0, 0.0, 0.007566665764898062, 0.0, 0.0, 0.0...</td>\n",
              "    </tr>\n",
              "    <tr>\n",
              "      <th>320</th>\n",
              "      <td>CNY</td>\n",
              "      <td>[0.0, 0.0, 0.0, 0.0, 0.0, 0.0, 0.0, 0.0, 0.156...</td>\n",
              "    </tr>\n",
              "    <tr>\n",
              "      <th>321</th>\n",
              "      <td>ITH</td>\n",
              "      <td>[0.48981326818466187, 0.08282214403152466, 0.0...</td>\n",
              "    </tr>\n",
              "  </tbody>\n",
              "</table>\n",
              "<p>322 rows × 2 columns</p>\n",
              "</div>\n",
              "    <div class=\"colab-df-buttons\">\n",
              "\n",
              "  <div class=\"colab-df-container\">\n",
              "    <button class=\"colab-df-convert\" onclick=\"convertToInteractive('df-90ea8206-5459-4485-a984-66e427fdc49e')\"\n",
              "            title=\"Convert this dataframe to an interactive table.\"\n",
              "            style=\"display:none;\">\n",
              "\n",
              "  <svg xmlns=\"http://www.w3.org/2000/svg\" height=\"24px\" viewBox=\"0 -960 960 960\">\n",
              "    <path d=\"M120-120v-720h720v720H120Zm60-500h600v-160H180v160Zm220 220h160v-160H400v160Zm0 220h160v-160H400v160ZM180-400h160v-160H180v160Zm440 0h160v-160H620v160ZM180-180h160v-160H180v160Zm440 0h160v-160H620v160Z\"/>\n",
              "  </svg>\n",
              "    </button>\n",
              "\n",
              "  <style>\n",
              "    .colab-df-container {\n",
              "      display:flex;\n",
              "      gap: 12px;\n",
              "    }\n",
              "\n",
              "    .colab-df-convert {\n",
              "      background-color: #E8F0FE;\n",
              "      border: none;\n",
              "      border-radius: 50%;\n",
              "      cursor: pointer;\n",
              "      display: none;\n",
              "      fill: #1967D2;\n",
              "      height: 32px;\n",
              "      padding: 0 0 0 0;\n",
              "      width: 32px;\n",
              "    }\n",
              "\n",
              "    .colab-df-convert:hover {\n",
              "      background-color: #E2EBFA;\n",
              "      box-shadow: 0px 1px 2px rgba(60, 64, 67, 0.3), 0px 1px 3px 1px rgba(60, 64, 67, 0.15);\n",
              "      fill: #174EA6;\n",
              "    }\n",
              "\n",
              "    .colab-df-buttons div {\n",
              "      margin-bottom: 4px;\n",
              "    }\n",
              "\n",
              "    [theme=dark] .colab-df-convert {\n",
              "      background-color: #3B4455;\n",
              "      fill: #D2E3FC;\n",
              "    }\n",
              "\n",
              "    [theme=dark] .colab-df-convert:hover {\n",
              "      background-color: #434B5C;\n",
              "      box-shadow: 0px 1px 3px 1px rgba(0, 0, 0, 0.15);\n",
              "      filter: drop-shadow(0px 1px 2px rgba(0, 0, 0, 0.3));\n",
              "      fill: #FFFFFF;\n",
              "    }\n",
              "  </style>\n",
              "\n",
              "    <script>\n",
              "      const buttonEl =\n",
              "        document.querySelector('#df-90ea8206-5459-4485-a984-66e427fdc49e button.colab-df-convert');\n",
              "      buttonEl.style.display =\n",
              "        google.colab.kernel.accessAllowed ? 'block' : 'none';\n",
              "\n",
              "      async function convertToInteractive(key) {\n",
              "        const element = document.querySelector('#df-90ea8206-5459-4485-a984-66e427fdc49e');\n",
              "        const dataTable =\n",
              "          await google.colab.kernel.invokeFunction('convertToInteractive',\n",
              "                                                    [key], {});\n",
              "        if (!dataTable) return;\n",
              "\n",
              "        const docLinkHtml = 'Like what you see? Visit the ' +\n",
              "          '<a target=\"_blank\" href=https://colab.research.google.com/notebooks/data_table.ipynb>data table notebook</a>'\n",
              "          + ' to learn more about interactive tables.';\n",
              "        element.innerHTML = '';\n",
              "        dataTable['output_type'] = 'display_data';\n",
              "        await google.colab.output.renderOutput(dataTable, element);\n",
              "        const docLink = document.createElement('div');\n",
              "        docLink.innerHTML = docLinkHtml;\n",
              "        element.appendChild(docLink);\n",
              "      }\n",
              "    </script>\n",
              "  </div>\n",
              "\n",
              "\n",
              "<div id=\"df-d7f88011-50a9-46ae-851f-3fad0404fabd\">\n",
              "  <button class=\"colab-df-quickchart\" onclick=\"quickchart('df-d7f88011-50a9-46ae-851f-3fad0404fabd')\"\n",
              "            title=\"Suggest charts\"\n",
              "            style=\"display:none;\">\n",
              "\n",
              "<svg xmlns=\"http://www.w3.org/2000/svg\" height=\"24px\"viewBox=\"0 0 24 24\"\n",
              "     width=\"24px\">\n",
              "    <g>\n",
              "        <path d=\"M19 3H5c-1.1 0-2 .9-2 2v14c0 1.1.9 2 2 2h14c1.1 0 2-.9 2-2V5c0-1.1-.9-2-2-2zM9 17H7v-7h2v7zm4 0h-2V7h2v10zm4 0h-2v-4h2v4z\"/>\n",
              "    </g>\n",
              "</svg>\n",
              "  </button>\n",
              "\n",
              "<style>\n",
              "  .colab-df-quickchart {\n",
              "      --bg-color: #E8F0FE;\n",
              "      --fill-color: #1967D2;\n",
              "      --hover-bg-color: #E2EBFA;\n",
              "      --hover-fill-color: #174EA6;\n",
              "      --disabled-fill-color: #AAA;\n",
              "      --disabled-bg-color: #DDD;\n",
              "  }\n",
              "\n",
              "  [theme=dark] .colab-df-quickchart {\n",
              "      --bg-color: #3B4455;\n",
              "      --fill-color: #D2E3FC;\n",
              "      --hover-bg-color: #434B5C;\n",
              "      --hover-fill-color: #FFFFFF;\n",
              "      --disabled-bg-color: #3B4455;\n",
              "      --disabled-fill-color: #666;\n",
              "  }\n",
              "\n",
              "  .colab-df-quickchart {\n",
              "    background-color: var(--bg-color);\n",
              "    border: none;\n",
              "    border-radius: 50%;\n",
              "    cursor: pointer;\n",
              "    display: none;\n",
              "    fill: var(--fill-color);\n",
              "    height: 32px;\n",
              "    padding: 0;\n",
              "    width: 32px;\n",
              "  }\n",
              "\n",
              "  .colab-df-quickchart:hover {\n",
              "    background-color: var(--hover-bg-color);\n",
              "    box-shadow: 0 1px 2px rgba(60, 64, 67, 0.3), 0 1px 3px 1px rgba(60, 64, 67, 0.15);\n",
              "    fill: var(--button-hover-fill-color);\n",
              "  }\n",
              "\n",
              "  .colab-df-quickchart-complete:disabled,\n",
              "  .colab-df-quickchart-complete:disabled:hover {\n",
              "    background-color: var(--disabled-bg-color);\n",
              "    fill: var(--disabled-fill-color);\n",
              "    box-shadow: none;\n",
              "  }\n",
              "\n",
              "  .colab-df-spinner {\n",
              "    border: 2px solid var(--fill-color);\n",
              "    border-color: transparent;\n",
              "    border-bottom-color: var(--fill-color);\n",
              "    animation:\n",
              "      spin 1s steps(1) infinite;\n",
              "  }\n",
              "\n",
              "  @keyframes spin {\n",
              "    0% {\n",
              "      border-color: transparent;\n",
              "      border-bottom-color: var(--fill-color);\n",
              "      border-left-color: var(--fill-color);\n",
              "    }\n",
              "    20% {\n",
              "      border-color: transparent;\n",
              "      border-left-color: var(--fill-color);\n",
              "      border-top-color: var(--fill-color);\n",
              "    }\n",
              "    30% {\n",
              "      border-color: transparent;\n",
              "      border-left-color: var(--fill-color);\n",
              "      border-top-color: var(--fill-color);\n",
              "      border-right-color: var(--fill-color);\n",
              "    }\n",
              "    40% {\n",
              "      border-color: transparent;\n",
              "      border-right-color: var(--fill-color);\n",
              "      border-top-color: var(--fill-color);\n",
              "    }\n",
              "    60% {\n",
              "      border-color: transparent;\n",
              "      border-right-color: var(--fill-color);\n",
              "    }\n",
              "    80% {\n",
              "      border-color: transparent;\n",
              "      border-right-color: var(--fill-color);\n",
              "      border-bottom-color: var(--fill-color);\n",
              "    }\n",
              "    90% {\n",
              "      border-color: transparent;\n",
              "      border-bottom-color: var(--fill-color);\n",
              "    }\n",
              "  }\n",
              "</style>\n",
              "\n",
              "  <script>\n",
              "    async function quickchart(key) {\n",
              "      const quickchartButtonEl =\n",
              "        document.querySelector('#' + key + ' button');\n",
              "      quickchartButtonEl.disabled = true;  // To prevent multiple clicks.\n",
              "      quickchartButtonEl.classList.add('colab-df-spinner');\n",
              "      try {\n",
              "        const charts = await google.colab.kernel.invokeFunction(\n",
              "            'suggestCharts', [key], {});\n",
              "      } catch (error) {\n",
              "        console.error('Error during call to suggestCharts:', error);\n",
              "      }\n",
              "      quickchartButtonEl.classList.remove('colab-df-spinner');\n",
              "      quickchartButtonEl.classList.add('colab-df-quickchart-complete');\n",
              "    }\n",
              "    (() => {\n",
              "      let quickchartButtonEl =\n",
              "        document.querySelector('#df-d7f88011-50a9-46ae-851f-3fad0404fabd button');\n",
              "      quickchartButtonEl.style.display =\n",
              "        google.colab.kernel.accessAllowed ? 'block' : 'none';\n",
              "    })();\n",
              "  </script>\n",
              "</div>\n",
              "    </div>\n",
              "  </div>\n"
            ]
          },
          "metadata": {},
          "execution_count": 34
        }
      ]
    },
    {
      "cell_type": "code",
      "source": [
        "combined_df = pd.merge(X_df, X_rep, left_on='ORIGIN_AIRPORT', right_on='Airport', how='left')"
      ],
      "metadata": {
        "id": "POdQ4isse78c"
      },
      "execution_count": null,
      "outputs": []
    },
    {
      "cell_type": "code",
      "source": [
        "X_df = pd.merge(combined_df, X_rep, left_on='DESTINATION_AIRPORT', right_on='Airport', how='left')"
      ],
      "metadata": {
        "id": "9EE75QUOe8Rf"
      },
      "execution_count": null,
      "outputs": []
    },
    {
      "cell_type": "code",
      "source": [
        "X_df"
      ],
      "metadata": {
        "colab": {
          "base_uri": "https://localhost:8080/"
        },
        "id": "LbRoA9b3fqA1",
        "outputId": "1484735c-5c47-4248-adde-416939e6ad7a"
      },
      "execution_count": null,
      "outputs": [
        {
          "output_type": "execute_result",
          "data": {
            "text/plain": [
              "              ID  YEAR  MONTH  DAY  DAY_OF_WEEK AIRLINE  FLIGHT_NUMBER  \\\n",
              "0        5133505  2021      2   14            6      AA           1077   \n",
              "1        5051259  2021     12    4            5      WN           2510   \n",
              "2        5340710  2021      7    7            2      MQ           3204   \n",
              "3        5445255  2021      1    4            7      B6            777   \n",
              "4        2473736  2021      6   16            2      WN           4924   \n",
              "...          ...   ...    ...  ...          ...     ...            ...   \n",
              "5314003  3089553  2021     12   22            2      DL            611   \n",
              "5314004  4917798  2021      9    1            2      OO           4589   \n",
              "5314005  3723223  2021      6   16            2      EV           2668   \n",
              "5314006   690512  2021      4    8            3      DL           1731   \n",
              "5314007  3455780  2021      7    2            4      WN            923   \n",
              "\n",
              "        TAIL_NUMBER ORIGIN_AIRPORT DESTINATION_AIRPORT  ...  DIVERTED  \\\n",
              "0            N454AA            BWI                 DFW  ...         0   \n",
              "1            N656SW            ONT                 SMF  ...         0   \n",
              "2            N696MQ            DFW                 LCH  ...         0   \n",
              "3            N585JB            BOS                 LAS  ...         0   \n",
              "4            N462WN            LAX                 OAK  ...         0   \n",
              "...             ...            ...                 ...  ...       ...   \n",
              "5314003      N199DN            LAX                 HNL  ...         0   \n",
              "5314004      N803SK            LGB                 SLC  ...         0   \n",
              "5314005      N680AE            VPS                 DFW  ...         0   \n",
              "5314006      N595NW            LAX                 ATL  ...         0   \n",
              "5314007      N223WN            MDW                 SEA  ...         0   \n",
              "\n",
              "         CANCELLED  CANCELLATION_REASON  Airport_x  \\\n",
              "0                0                  NaN        BWI   \n",
              "1                0                  NaN        ONT   \n",
              "2                0                  NaN        DFW   \n",
              "3                0                  NaN        BOS   \n",
              "4                0                  NaN        LAX   \n",
              "...            ...                  ...        ...   \n",
              "5314003          0                  NaN        LAX   \n",
              "5314004          0                  NaN        LGB   \n",
              "5314005          0                  NaN        VPS   \n",
              "5314006          0                  NaN        LAX   \n",
              "5314007          0                  NaN        MDW   \n",
              "\n",
              "                                          Representation_x  Airport_y  \\\n",
              "0        [0.5142310261726379, 0.4705844819545746, 0.0, ...        DFW   \n",
              "1        [0.0, 0.1453670710325241, 0.0, 0.3538846969604...        SMF   \n",
              "2        [0.28220289945602417, 0.035693101584911346, 0....        LCH   \n",
              "3        [0.6367199420928955, 0.5685775279998779, 0.028...        LAS   \n",
              "4        [0.48011887073516846, 0.28913405537605286, 0.0...        OAK   \n",
              "...                                                    ...        ...   \n",
              "5314003  [0.48011887073516846, 0.28913405537605286, 0.0...        HNL   \n",
              "5314004  [0.0, 0.35703331232070923, 0.0801352858543396,...        SLC   \n",
              "5314005  [0.0, 0.1796356588602066, 0.0, 0.0414777770638...        DFW   \n",
              "5314006  [0.48011887073516846, 0.28913405537605286, 0.0...        ATL   \n",
              "5314007  [0.2536628246307373, 0.4253738224506378, 0.0, ...        SEA   \n",
              "\n",
              "                                          Representation_y  \\\n",
              "0        [0.28220289945602417, 0.035693101584911346, 0....   \n",
              "1        [0.0, 0.5886985063552856, 0.0, 0.1839753538370...   \n",
              "2        [0.0, 0.40515002608299255, 0.0, 0.0, 0.0, 0.63...   \n",
              "3        [0.0, 0.0, 0.34421294927597046, 0.0, 0.3776198...   \n",
              "4        [0.10630263388156891, 0.6059154272079468, 0.0,...   \n",
              "...                                                    ...   \n",
              "5314003  [0.16141733527183533, 1.1670565605163574, 0.0,...   \n",
              "5314004  [0.0, 0.0, 1.3113659620285034, 0.0, 1.40304243...   \n",
              "5314005  [0.28220289945602417, 0.035693101584911346, 0....   \n",
              "5314006  [0.3136797249317169, 0.16515356302261353, 0.0,...   \n",
              "5314007  [0.5348947644233704, 0.7737330198287964, 0.0, ...   \n",
              "\n",
              "         Representation_x_mean  Representation_y_mean      Mean  \n",
              "0                     0.405436               0.260335  0.332885  \n",
              "1                     0.225305               0.277105  0.251205  \n",
              "2                     0.260335               0.130475  0.195405  \n",
              "3                     0.426091               0.157626  0.291859  \n",
              "4                     0.356632               0.292627  0.324630  \n",
              "...                        ...                    ...       ...  \n",
              "5314003               0.356632               0.275669  0.316151  \n",
              "5314004               0.305286               0.407714  0.356500  \n",
              "5314005               0.127686               0.260335  0.194011  \n",
              "5314006               0.356632               0.252710  0.304671  \n",
              "5314007               0.341911               0.364347  0.353129  \n",
              "\n",
              "[5314008 rows x 29 columns]"
            ],
            "text/html": [
              "\n",
              "  <div id=\"df-87a29a2f-14cb-46eb-be42-d8e8a806d1d3\" class=\"colab-df-container\">\n",
              "    <div>\n",
              "<style scoped>\n",
              "    .dataframe tbody tr th:only-of-type {\n",
              "        vertical-align: middle;\n",
              "    }\n",
              "\n",
              "    .dataframe tbody tr th {\n",
              "        vertical-align: top;\n",
              "    }\n",
              "\n",
              "    .dataframe thead th {\n",
              "        text-align: right;\n",
              "    }\n",
              "</style>\n",
              "<table border=\"1\" class=\"dataframe\">\n",
              "  <thead>\n",
              "    <tr style=\"text-align: right;\">\n",
              "      <th></th>\n",
              "      <th>ID</th>\n",
              "      <th>YEAR</th>\n",
              "      <th>MONTH</th>\n",
              "      <th>DAY</th>\n",
              "      <th>DAY_OF_WEEK</th>\n",
              "      <th>AIRLINE</th>\n",
              "      <th>FLIGHT_NUMBER</th>\n",
              "      <th>TAIL_NUMBER</th>\n",
              "      <th>ORIGIN_AIRPORT</th>\n",
              "      <th>DESTINATION_AIRPORT</th>\n",
              "      <th>...</th>\n",
              "      <th>DIVERTED</th>\n",
              "      <th>CANCELLED</th>\n",
              "      <th>CANCELLATION_REASON</th>\n",
              "      <th>Airport_x</th>\n",
              "      <th>Representation_x</th>\n",
              "      <th>Airport_y</th>\n",
              "      <th>Representation_y</th>\n",
              "      <th>Representation_x_mean</th>\n",
              "      <th>Representation_y_mean</th>\n",
              "      <th>Mean</th>\n",
              "    </tr>\n",
              "  </thead>\n",
              "  <tbody>\n",
              "    <tr>\n",
              "      <th>0</th>\n",
              "      <td>5133505</td>\n",
              "      <td>2021</td>\n",
              "      <td>2</td>\n",
              "      <td>14</td>\n",
              "      <td>6</td>\n",
              "      <td>AA</td>\n",
              "      <td>1077</td>\n",
              "      <td>N454AA</td>\n",
              "      <td>BWI</td>\n",
              "      <td>DFW</td>\n",
              "      <td>...</td>\n",
              "      <td>0</td>\n",
              "      <td>0</td>\n",
              "      <td>NaN</td>\n",
              "      <td>BWI</td>\n",
              "      <td>[0.5142310261726379, 0.4705844819545746, 0.0, ...</td>\n",
              "      <td>DFW</td>\n",
              "      <td>[0.28220289945602417, 0.035693101584911346, 0....</td>\n",
              "      <td>0.405436</td>\n",
              "      <td>0.260335</td>\n",
              "      <td>0.332885</td>\n",
              "    </tr>\n",
              "    <tr>\n",
              "      <th>1</th>\n",
              "      <td>5051259</td>\n",
              "      <td>2021</td>\n",
              "      <td>12</td>\n",
              "      <td>4</td>\n",
              "      <td>5</td>\n",
              "      <td>WN</td>\n",
              "      <td>2510</td>\n",
              "      <td>N656SW</td>\n",
              "      <td>ONT</td>\n",
              "      <td>SMF</td>\n",
              "      <td>...</td>\n",
              "      <td>0</td>\n",
              "      <td>0</td>\n",
              "      <td>NaN</td>\n",
              "      <td>ONT</td>\n",
              "      <td>[0.0, 0.1453670710325241, 0.0, 0.3538846969604...</td>\n",
              "      <td>SMF</td>\n",
              "      <td>[0.0, 0.5886985063552856, 0.0, 0.1839753538370...</td>\n",
              "      <td>0.225305</td>\n",
              "      <td>0.277105</td>\n",
              "      <td>0.251205</td>\n",
              "    </tr>\n",
              "    <tr>\n",
              "      <th>2</th>\n",
              "      <td>5340710</td>\n",
              "      <td>2021</td>\n",
              "      <td>7</td>\n",
              "      <td>7</td>\n",
              "      <td>2</td>\n",
              "      <td>MQ</td>\n",
              "      <td>3204</td>\n",
              "      <td>N696MQ</td>\n",
              "      <td>DFW</td>\n",
              "      <td>LCH</td>\n",
              "      <td>...</td>\n",
              "      <td>0</td>\n",
              "      <td>0</td>\n",
              "      <td>NaN</td>\n",
              "      <td>DFW</td>\n",
              "      <td>[0.28220289945602417, 0.035693101584911346, 0....</td>\n",
              "      <td>LCH</td>\n",
              "      <td>[0.0, 0.40515002608299255, 0.0, 0.0, 0.0, 0.63...</td>\n",
              "      <td>0.260335</td>\n",
              "      <td>0.130475</td>\n",
              "      <td>0.195405</td>\n",
              "    </tr>\n",
              "    <tr>\n",
              "      <th>3</th>\n",
              "      <td>5445255</td>\n",
              "      <td>2021</td>\n",
              "      <td>1</td>\n",
              "      <td>4</td>\n",
              "      <td>7</td>\n",
              "      <td>B6</td>\n",
              "      <td>777</td>\n",
              "      <td>N585JB</td>\n",
              "      <td>BOS</td>\n",
              "      <td>LAS</td>\n",
              "      <td>...</td>\n",
              "      <td>0</td>\n",
              "      <td>0</td>\n",
              "      <td>NaN</td>\n",
              "      <td>BOS</td>\n",
              "      <td>[0.6367199420928955, 0.5685775279998779, 0.028...</td>\n",
              "      <td>LAS</td>\n",
              "      <td>[0.0, 0.0, 0.34421294927597046, 0.0, 0.3776198...</td>\n",
              "      <td>0.426091</td>\n",
              "      <td>0.157626</td>\n",
              "      <td>0.291859</td>\n",
              "    </tr>\n",
              "    <tr>\n",
              "      <th>4</th>\n",
              "      <td>2473736</td>\n",
              "      <td>2021</td>\n",
              "      <td>6</td>\n",
              "      <td>16</td>\n",
              "      <td>2</td>\n",
              "      <td>WN</td>\n",
              "      <td>4924</td>\n",
              "      <td>N462WN</td>\n",
              "      <td>LAX</td>\n",
              "      <td>OAK</td>\n",
              "      <td>...</td>\n",
              "      <td>0</td>\n",
              "      <td>0</td>\n",
              "      <td>NaN</td>\n",
              "      <td>LAX</td>\n",
              "      <td>[0.48011887073516846, 0.28913405537605286, 0.0...</td>\n",
              "      <td>OAK</td>\n",
              "      <td>[0.10630263388156891, 0.6059154272079468, 0.0,...</td>\n",
              "      <td>0.356632</td>\n",
              "      <td>0.292627</td>\n",
              "      <td>0.324630</td>\n",
              "    </tr>\n",
              "    <tr>\n",
              "      <th>...</th>\n",
              "      <td>...</td>\n",
              "      <td>...</td>\n",
              "      <td>...</td>\n",
              "      <td>...</td>\n",
              "      <td>...</td>\n",
              "      <td>...</td>\n",
              "      <td>...</td>\n",
              "      <td>...</td>\n",
              "      <td>...</td>\n",
              "      <td>...</td>\n",
              "      <td>...</td>\n",
              "      <td>...</td>\n",
              "      <td>...</td>\n",
              "      <td>...</td>\n",
              "      <td>...</td>\n",
              "      <td>...</td>\n",
              "      <td>...</td>\n",
              "      <td>...</td>\n",
              "      <td>...</td>\n",
              "      <td>...</td>\n",
              "      <td>...</td>\n",
              "    </tr>\n",
              "    <tr>\n",
              "      <th>5314003</th>\n",
              "      <td>3089553</td>\n",
              "      <td>2021</td>\n",
              "      <td>12</td>\n",
              "      <td>22</td>\n",
              "      <td>2</td>\n",
              "      <td>DL</td>\n",
              "      <td>611</td>\n",
              "      <td>N199DN</td>\n",
              "      <td>LAX</td>\n",
              "      <td>HNL</td>\n",
              "      <td>...</td>\n",
              "      <td>0</td>\n",
              "      <td>0</td>\n",
              "      <td>NaN</td>\n",
              "      <td>LAX</td>\n",
              "      <td>[0.48011887073516846, 0.28913405537605286, 0.0...</td>\n",
              "      <td>HNL</td>\n",
              "      <td>[0.16141733527183533, 1.1670565605163574, 0.0,...</td>\n",
              "      <td>0.356632</td>\n",
              "      <td>0.275669</td>\n",
              "      <td>0.316151</td>\n",
              "    </tr>\n",
              "    <tr>\n",
              "      <th>5314004</th>\n",
              "      <td>4917798</td>\n",
              "      <td>2021</td>\n",
              "      <td>9</td>\n",
              "      <td>1</td>\n",
              "      <td>2</td>\n",
              "      <td>OO</td>\n",
              "      <td>4589</td>\n",
              "      <td>N803SK</td>\n",
              "      <td>LGB</td>\n",
              "      <td>SLC</td>\n",
              "      <td>...</td>\n",
              "      <td>0</td>\n",
              "      <td>0</td>\n",
              "      <td>NaN</td>\n",
              "      <td>LGB</td>\n",
              "      <td>[0.0, 0.35703331232070923, 0.0801352858543396,...</td>\n",
              "      <td>SLC</td>\n",
              "      <td>[0.0, 0.0, 1.3113659620285034, 0.0, 1.40304243...</td>\n",
              "      <td>0.305286</td>\n",
              "      <td>0.407714</td>\n",
              "      <td>0.356500</td>\n",
              "    </tr>\n",
              "    <tr>\n",
              "      <th>5314005</th>\n",
              "      <td>3723223</td>\n",
              "      <td>2021</td>\n",
              "      <td>6</td>\n",
              "      <td>16</td>\n",
              "      <td>2</td>\n",
              "      <td>EV</td>\n",
              "      <td>2668</td>\n",
              "      <td>N680AE</td>\n",
              "      <td>VPS</td>\n",
              "      <td>DFW</td>\n",
              "      <td>...</td>\n",
              "      <td>0</td>\n",
              "      <td>0</td>\n",
              "      <td>NaN</td>\n",
              "      <td>VPS</td>\n",
              "      <td>[0.0, 0.1796356588602066, 0.0, 0.0414777770638...</td>\n",
              "      <td>DFW</td>\n",
              "      <td>[0.28220289945602417, 0.035693101584911346, 0....</td>\n",
              "      <td>0.127686</td>\n",
              "      <td>0.260335</td>\n",
              "      <td>0.194011</td>\n",
              "    </tr>\n",
              "    <tr>\n",
              "      <th>5314006</th>\n",
              "      <td>690512</td>\n",
              "      <td>2021</td>\n",
              "      <td>4</td>\n",
              "      <td>8</td>\n",
              "      <td>3</td>\n",
              "      <td>DL</td>\n",
              "      <td>1731</td>\n",
              "      <td>N595NW</td>\n",
              "      <td>LAX</td>\n",
              "      <td>ATL</td>\n",
              "      <td>...</td>\n",
              "      <td>0</td>\n",
              "      <td>0</td>\n",
              "      <td>NaN</td>\n",
              "      <td>LAX</td>\n",
              "      <td>[0.48011887073516846, 0.28913405537605286, 0.0...</td>\n",
              "      <td>ATL</td>\n",
              "      <td>[0.3136797249317169, 0.16515356302261353, 0.0,...</td>\n",
              "      <td>0.356632</td>\n",
              "      <td>0.252710</td>\n",
              "      <td>0.304671</td>\n",
              "    </tr>\n",
              "    <tr>\n",
              "      <th>5314007</th>\n",
              "      <td>3455780</td>\n",
              "      <td>2021</td>\n",
              "      <td>7</td>\n",
              "      <td>2</td>\n",
              "      <td>4</td>\n",
              "      <td>WN</td>\n",
              "      <td>923</td>\n",
              "      <td>N223WN</td>\n",
              "      <td>MDW</td>\n",
              "      <td>SEA</td>\n",
              "      <td>...</td>\n",
              "      <td>0</td>\n",
              "      <td>0</td>\n",
              "      <td>NaN</td>\n",
              "      <td>MDW</td>\n",
              "      <td>[0.2536628246307373, 0.4253738224506378, 0.0, ...</td>\n",
              "      <td>SEA</td>\n",
              "      <td>[0.5348947644233704, 0.7737330198287964, 0.0, ...</td>\n",
              "      <td>0.341911</td>\n",
              "      <td>0.364347</td>\n",
              "      <td>0.353129</td>\n",
              "    </tr>\n",
              "  </tbody>\n",
              "</table>\n",
              "<p>5314008 rows × 29 columns</p>\n",
              "</div>\n",
              "    <div class=\"colab-df-buttons\">\n",
              "\n",
              "  <div class=\"colab-df-container\">\n",
              "    <button class=\"colab-df-convert\" onclick=\"convertToInteractive('df-87a29a2f-14cb-46eb-be42-d8e8a806d1d3')\"\n",
              "            title=\"Convert this dataframe to an interactive table.\"\n",
              "            style=\"display:none;\">\n",
              "\n",
              "  <svg xmlns=\"http://www.w3.org/2000/svg\" height=\"24px\" viewBox=\"0 -960 960 960\">\n",
              "    <path d=\"M120-120v-720h720v720H120Zm60-500h600v-160H180v160Zm220 220h160v-160H400v160Zm0 220h160v-160H400v160ZM180-400h160v-160H180v160Zm440 0h160v-160H620v160ZM180-180h160v-160H180v160Zm440 0h160v-160H620v160Z\"/>\n",
              "  </svg>\n",
              "    </button>\n",
              "\n",
              "  <style>\n",
              "    .colab-df-container {\n",
              "      display:flex;\n",
              "      gap: 12px;\n",
              "    }\n",
              "\n",
              "    .colab-df-convert {\n",
              "      background-color: #E8F0FE;\n",
              "      border: none;\n",
              "      border-radius: 50%;\n",
              "      cursor: pointer;\n",
              "      display: none;\n",
              "      fill: #1967D2;\n",
              "      height: 32px;\n",
              "      padding: 0 0 0 0;\n",
              "      width: 32px;\n",
              "    }\n",
              "\n",
              "    .colab-df-convert:hover {\n",
              "      background-color: #E2EBFA;\n",
              "      box-shadow: 0px 1px 2px rgba(60, 64, 67, 0.3), 0px 1px 3px 1px rgba(60, 64, 67, 0.15);\n",
              "      fill: #174EA6;\n",
              "    }\n",
              "\n",
              "    .colab-df-buttons div {\n",
              "      margin-bottom: 4px;\n",
              "    }\n",
              "\n",
              "    [theme=dark] .colab-df-convert {\n",
              "      background-color: #3B4455;\n",
              "      fill: #D2E3FC;\n",
              "    }\n",
              "\n",
              "    [theme=dark] .colab-df-convert:hover {\n",
              "      background-color: #434B5C;\n",
              "      box-shadow: 0px 1px 3px 1px rgba(0, 0, 0, 0.15);\n",
              "      filter: drop-shadow(0px 1px 2px rgba(0, 0, 0, 0.3));\n",
              "      fill: #FFFFFF;\n",
              "    }\n",
              "  </style>\n",
              "\n",
              "    <script>\n",
              "      const buttonEl =\n",
              "        document.querySelector('#df-87a29a2f-14cb-46eb-be42-d8e8a806d1d3 button.colab-df-convert');\n",
              "      buttonEl.style.display =\n",
              "        google.colab.kernel.accessAllowed ? 'block' : 'none';\n",
              "\n",
              "      async function convertToInteractive(key) {\n",
              "        const element = document.querySelector('#df-87a29a2f-14cb-46eb-be42-d8e8a806d1d3');\n",
              "        const dataTable =\n",
              "          await google.colab.kernel.invokeFunction('convertToInteractive',\n",
              "                                                    [key], {});\n",
              "        if (!dataTable) return;\n",
              "\n",
              "        const docLinkHtml = 'Like what you see? Visit the ' +\n",
              "          '<a target=\"_blank\" href=https://colab.research.google.com/notebooks/data_table.ipynb>data table notebook</a>'\n",
              "          + ' to learn more about interactive tables.';\n",
              "        element.innerHTML = '';\n",
              "        dataTable['output_type'] = 'display_data';\n",
              "        await google.colab.output.renderOutput(dataTable, element);\n",
              "        const docLink = document.createElement('div');\n",
              "        docLink.innerHTML = docLinkHtml;\n",
              "        element.appendChild(docLink);\n",
              "      }\n",
              "    </script>\n",
              "  </div>\n",
              "\n",
              "\n",
              "<div id=\"df-27e22c24-5db8-43a8-8b25-4e7ce5423ac3\">\n",
              "  <button class=\"colab-df-quickchart\" onclick=\"quickchart('df-27e22c24-5db8-43a8-8b25-4e7ce5423ac3')\"\n",
              "            title=\"Suggest charts\"\n",
              "            style=\"display:none;\">\n",
              "\n",
              "<svg xmlns=\"http://www.w3.org/2000/svg\" height=\"24px\"viewBox=\"0 0 24 24\"\n",
              "     width=\"24px\">\n",
              "    <g>\n",
              "        <path d=\"M19 3H5c-1.1 0-2 .9-2 2v14c0 1.1.9 2 2 2h14c1.1 0 2-.9 2-2V5c0-1.1-.9-2-2-2zM9 17H7v-7h2v7zm4 0h-2V7h2v10zm4 0h-2v-4h2v4z\"/>\n",
              "    </g>\n",
              "</svg>\n",
              "  </button>\n",
              "\n",
              "<style>\n",
              "  .colab-df-quickchart {\n",
              "      --bg-color: #E8F0FE;\n",
              "      --fill-color: #1967D2;\n",
              "      --hover-bg-color: #E2EBFA;\n",
              "      --hover-fill-color: #174EA6;\n",
              "      --disabled-fill-color: #AAA;\n",
              "      --disabled-bg-color: #DDD;\n",
              "  }\n",
              "\n",
              "  [theme=dark] .colab-df-quickchart {\n",
              "      --bg-color: #3B4455;\n",
              "      --fill-color: #D2E3FC;\n",
              "      --hover-bg-color: #434B5C;\n",
              "      --hover-fill-color: #FFFFFF;\n",
              "      --disabled-bg-color: #3B4455;\n",
              "      --disabled-fill-color: #666;\n",
              "  }\n",
              "\n",
              "  .colab-df-quickchart {\n",
              "    background-color: var(--bg-color);\n",
              "    border: none;\n",
              "    border-radius: 50%;\n",
              "    cursor: pointer;\n",
              "    display: none;\n",
              "    fill: var(--fill-color);\n",
              "    height: 32px;\n",
              "    padding: 0;\n",
              "    width: 32px;\n",
              "  }\n",
              "\n",
              "  .colab-df-quickchart:hover {\n",
              "    background-color: var(--hover-bg-color);\n",
              "    box-shadow: 0 1px 2px rgba(60, 64, 67, 0.3), 0 1px 3px 1px rgba(60, 64, 67, 0.15);\n",
              "    fill: var(--button-hover-fill-color);\n",
              "  }\n",
              "\n",
              "  .colab-df-quickchart-complete:disabled,\n",
              "  .colab-df-quickchart-complete:disabled:hover {\n",
              "    background-color: var(--disabled-bg-color);\n",
              "    fill: var(--disabled-fill-color);\n",
              "    box-shadow: none;\n",
              "  }\n",
              "\n",
              "  .colab-df-spinner {\n",
              "    border: 2px solid var(--fill-color);\n",
              "    border-color: transparent;\n",
              "    border-bottom-color: var(--fill-color);\n",
              "    animation:\n",
              "      spin 1s steps(1) infinite;\n",
              "  }\n",
              "\n",
              "  @keyframes spin {\n",
              "    0% {\n",
              "      border-color: transparent;\n",
              "      border-bottom-color: var(--fill-color);\n",
              "      border-left-color: var(--fill-color);\n",
              "    }\n",
              "    20% {\n",
              "      border-color: transparent;\n",
              "      border-left-color: var(--fill-color);\n",
              "      border-top-color: var(--fill-color);\n",
              "    }\n",
              "    30% {\n",
              "      border-color: transparent;\n",
              "      border-left-color: var(--fill-color);\n",
              "      border-top-color: var(--fill-color);\n",
              "      border-right-color: var(--fill-color);\n",
              "    }\n",
              "    40% {\n",
              "      border-color: transparent;\n",
              "      border-right-color: var(--fill-color);\n",
              "      border-top-color: var(--fill-color);\n",
              "    }\n",
              "    60% {\n",
              "      border-color: transparent;\n",
              "      border-right-color: var(--fill-color);\n",
              "    }\n",
              "    80% {\n",
              "      border-color: transparent;\n",
              "      border-right-color: var(--fill-color);\n",
              "      border-bottom-color: var(--fill-color);\n",
              "    }\n",
              "    90% {\n",
              "      border-color: transparent;\n",
              "      border-bottom-color: var(--fill-color);\n",
              "    }\n",
              "  }\n",
              "</style>\n",
              "\n",
              "  <script>\n",
              "    async function quickchart(key) {\n",
              "      const quickchartButtonEl =\n",
              "        document.querySelector('#' + key + ' button');\n",
              "      quickchartButtonEl.disabled = true;  // To prevent multiple clicks.\n",
              "      quickchartButtonEl.classList.add('colab-df-spinner');\n",
              "      try {\n",
              "        const charts = await google.colab.kernel.invokeFunction(\n",
              "            'suggestCharts', [key], {});\n",
              "      } catch (error) {\n",
              "        console.error('Error during call to suggestCharts:', error);\n",
              "      }\n",
              "      quickchartButtonEl.classList.remove('colab-df-spinner');\n",
              "      quickchartButtonEl.classList.add('colab-df-quickchart-complete');\n",
              "    }\n",
              "    (() => {\n",
              "      let quickchartButtonEl =\n",
              "        document.querySelector('#df-27e22c24-5db8-43a8-8b25-4e7ce5423ac3 button');\n",
              "      quickchartButtonEl.style.display =\n",
              "        google.colab.kernel.accessAllowed ? 'block' : 'none';\n",
              "    })();\n",
              "  </script>\n",
              "</div>\n",
              "    </div>\n",
              "  </div>\n"
            ]
          },
          "metadata": {},
          "execution_count": 31
        }
      ]
    },
    {
      "cell_type": "markdown",
      "source": [
        "Without mean #1 option"
      ],
      "metadata": {
        "id": "Znn_tEwDUHZS"
      }
    },
    {
      "cell_type": "code",
      "source": [
        "X_df['Representation_x'] = X_df['Representation_x'].apply(lambda x: x if isinstance(x, (list, np.ndarray)) else np.array([]).tolist())"
      ],
      "metadata": {
        "id": "vqhPxzQJE3bX"
      },
      "execution_count": null,
      "outputs": []
    },
    {
      "cell_type": "code",
      "source": [
        "new_columns = pd.DataFrame(X_df['Representation_x'].values.tolist(), columns=[f'kolumna_x_{i+1}' for i in range(len(X_df['Representation_x'].iloc[0]))])"
      ],
      "metadata": {
        "id": "DDm30tB4EMMT"
      },
      "execution_count": null,
      "outputs": []
    },
    {
      "cell_type": "code",
      "source": [
        "X_df = pd.concat([X_df, new_columns], axis=1)"
      ],
      "metadata": {
        "id": "2nmrZAQ2BDet"
      },
      "execution_count": null,
      "outputs": []
    },
    {
      "cell_type": "code",
      "source": [
        "X_df['Representation_y'] = X_df['Representation_y'].apply(lambda x: x if isinstance(x, (list, np.ndarray)) else np.array([]).tolist())"
      ],
      "metadata": {
        "id": "yf2V2BuvGV-R"
      },
      "execution_count": null,
      "outputs": []
    },
    {
      "cell_type": "code",
      "source": [
        "new_columns = pd.DataFrame(X_df['Representation_y'].values.tolist(), columns=[f'kolumna_y_{i+1}' for i in range(len(X_df['Representation_y'].iloc[0]))])"
      ],
      "metadata": {
        "id": "mcUIUlZzGX0R"
      },
      "execution_count": null,
      "outputs": []
    },
    {
      "cell_type": "code",
      "source": [
        "X_df = pd.concat([X_df, new_columns], axis=1)"
      ],
      "metadata": {
        "id": "xsfo3IKjGX4c"
      },
      "execution_count": null,
      "outputs": []
    },
    {
      "cell_type": "markdown",
      "source": [
        "With mean #2 option"
      ],
      "metadata": {
        "id": "6CjlrfQjUKzb"
      }
    },
    {
      "cell_type": "code",
      "source": [
        "X_df['Representation_x_mean'] = X_df['Representation_x'].apply(lambda x: sum(x) / len(x) if isinstance(x, (list, np.ndarray)) else 0)\n",
        "X_df['Representation_y_mean'] = X_df['Representation_y'].apply(lambda x: sum(x) / len(x) if isinstance(x, (list, np.ndarray)) else 0)"
      ],
      "metadata": {
        "id": "o77g17CahuiQ"
      },
      "execution_count": null,
      "outputs": []
    },
    {
      "cell_type": "code",
      "source": [
        "X_df['Mean'] = (X_df['Representation_x_mean'] + X_df['Representation_y_mean']) / 2"
      ],
      "metadata": {
        "id": "n9fI8rQVkzSw"
      },
      "execution_count": null,
      "outputs": []
    },
    {
      "cell_type": "markdown",
      "source": [
        "Drop duplicates and columns"
      ],
      "metadata": {
        "id": "adNJKlM0UP8u"
      }
    },
    {
      "cell_type": "code",
      "source": [
        "X_df.drop(columns=['Airport_x', 'Airport_y'], inplace=True)"
      ],
      "metadata": {
        "id": "sZoErswek5-U"
      },
      "execution_count": null,
      "outputs": []
    },
    {
      "cell_type": "code",
      "source": [
        "X_df.drop(columns=['Representation_x', 'Representation_y'], inplace=True)"
      ],
      "metadata": {
        "id": "Vk5ZQoehlNeo"
      },
      "execution_count": null,
      "outputs": []
    },
    {
      "cell_type": "code",
      "source": [
        "df = pd.concat([X_df, y_df], axis=1)"
      ],
      "metadata": {
        "id": "Am9q-gAQedFG"
      },
      "execution_count": null,
      "outputs": []
    },
    {
      "cell_type": "code",
      "source": [
        "class_counts = df['DESTINATION_AIRPORT'].value_counts()"
      ],
      "metadata": {
        "id": "lj81yFxleeQ7"
      },
      "execution_count": null,
      "outputs": []
    },
    {
      "cell_type": "code",
      "source": [
        "singleton_classes = class_counts[class_counts < 2].index"
      ],
      "metadata": {
        "id": "3PvzB-YCefUZ"
      },
      "execution_count": null,
      "outputs": []
    },
    {
      "cell_type": "code",
      "source": [
        "singleton_classes"
      ],
      "metadata": {
        "colab": {
          "base_uri": "https://localhost:8080/"
        },
        "id": "RoBXqPR0niMv",
        "outputId": "9e68afb6-a751-40c9-8959-4ab54063745a"
      },
      "execution_count": null,
      "outputs": [
        {
          "output_type": "execute_result",
          "data": {
            "text/plain": [
              "Index(['10666'], dtype='object')"
            ]
          },
          "metadata": {},
          "execution_count": 18
        }
      ]
    },
    {
      "cell_type": "code",
      "source": [
        "df = df[~df['DESTINATION_AIRPORT'].isin(singleton_classes)]"
      ],
      "metadata": {
        "id": "9cSkPzPTegkF"
      },
      "execution_count": null,
      "outputs": []
    },
    {
      "cell_type": "code",
      "source": [
        "df = df.loc[:, ~df.columns.duplicated()]"
      ],
      "metadata": {
        "id": "ffsX5cN_ehkh"
      },
      "execution_count": null,
      "outputs": []
    },
    {
      "cell_type": "code",
      "source": [
        "df.dropna(subset=['ID'], inplace=True)"
      ],
      "metadata": {
        "id": "zXw5U-8ypmit"
      },
      "execution_count": null,
      "outputs": []
    },
    {
      "cell_type": "code",
      "source": [
        "df"
      ],
      "metadata": {
        "colab": {
          "base_uri": "https://localhost:8080/"
        },
        "id": "3dpza0FMkXCb",
        "outputId": "550154e7-a71f-4be9-85cb-5eedc3db89e3"
      },
      "execution_count": null,
      "outputs": [
        {
          "output_type": "execute_result",
          "data": {
            "text/plain": [
              "              ID  YEAR  MONTH  DAY  DAY_OF_WEEK AIRLINE  FLIGHT_NUMBER  \\\n",
              "0        5133505  2021      2   14            6      AA           1077   \n",
              "1        5051259  2021     12    4            5      WN           2510   \n",
              "2        5340710  2021      7    7            2      MQ           3204   \n",
              "3        5445255  2021      1    4            7      B6            777   \n",
              "4        2473736  2021      6   16            2      WN           4924   \n",
              "...          ...   ...    ...  ...          ...     ...            ...   \n",
              "5314003  3089553  2021     12   22            2      DL            611   \n",
              "5314004  4917798  2021      9    1            2      OO           4589   \n",
              "5314005  3723223  2021      6   16            2      EV           2668   \n",
              "5314006   690512  2021      4    8            3      DL           1731   \n",
              "5314007  3455780  2021      7    2            4      WN            923   \n",
              "\n",
              "        TAIL_NUMBER ORIGIN_AIRPORT DESTINATION_AIRPORT  ...  AIR_TIME  \\\n",
              "0            N454AA            BWI                 DFW  ...     168.0   \n",
              "1            N656SW            ONT                 SMF  ...      65.0   \n",
              "2            N696MQ            DFW                 LCH  ...      52.0   \n",
              "3            N585JB            BOS                 LAS  ...     329.0   \n",
              "4            N462WN            LAX                 OAK  ...      54.0   \n",
              "...             ...            ...                 ...  ...       ...   \n",
              "5314003      N199DN            LAX                 HNL  ...     312.0   \n",
              "5314004      N803SK            LGB                 SLC  ...      83.0   \n",
              "5314005      N680AE            VPS                 DFW  ...      93.0   \n",
              "5314006      N595NW            LAX                 ATL  ...     213.0   \n",
              "5314007      N223WN            MDW                 SEA  ...     241.0   \n",
              "\n",
              "         DISTANCE  SCHEDULED_ARRIVAL  DIVERTED  CANCELLED  \\\n",
              "0            1217               1115         0          0   \n",
              "1             390               1050         0          0   \n",
              "2             295               2323         0          0   \n",
              "3            2381               2308         0          0   \n",
              "4             337               1850         0          0   \n",
              "...           ...                ...       ...        ...   \n",
              "5314003      2556               1230         0          0   \n",
              "5314004       588               1553         0          0   \n",
              "5314005       641               1620         0          0   \n",
              "5314006      1947                824         0          0   \n",
              "5314007      1733               1625         0          0   \n",
              "\n",
              "         CANCELLATION_REASON  Representation_x_mean  Representation_y_mean  \\\n",
              "0                        NaN               0.405436               0.260335   \n",
              "1                        NaN               0.225305               0.277105   \n",
              "2                        NaN               0.260335               0.130475   \n",
              "3                        NaN               0.426091               0.157626   \n",
              "4                        NaN               0.356632               0.292627   \n",
              "...                      ...                    ...                    ...   \n",
              "5314003                  NaN               0.356632               0.275669   \n",
              "5314004                  NaN               0.305286               0.407714   \n",
              "5314005                  NaN               0.127686               0.260335   \n",
              "5314006                  NaN               0.356632               0.252710   \n",
              "5314007                  NaN               0.341911               0.364347   \n",
              "\n",
              "             Mean  ARRIVAL_DELAY  \n",
              "0        0.332885          -35.0  \n",
              "1        0.251205           -2.0  \n",
              "2        0.195405          -10.0  \n",
              "3        0.291859           -1.0  \n",
              "4        0.324630           31.0  \n",
              "...           ...            ...  \n",
              "5314003  0.316151          -16.0  \n",
              "5314004  0.356500          -11.0  \n",
              "5314005  0.194011          310.0  \n",
              "5314006  0.304671           -2.0  \n",
              "5314007  0.353129            2.0  \n",
              "\n",
              "[5314007 rows x 26 columns]"
            ],
            "text/html": [
              "\n",
              "  <div id=\"df-245bd2da-ab88-457f-b595-ad9ca86a6646\" class=\"colab-df-container\">\n",
              "    <div>\n",
              "<style scoped>\n",
              "    .dataframe tbody tr th:only-of-type {\n",
              "        vertical-align: middle;\n",
              "    }\n",
              "\n",
              "    .dataframe tbody tr th {\n",
              "        vertical-align: top;\n",
              "    }\n",
              "\n",
              "    .dataframe thead th {\n",
              "        text-align: right;\n",
              "    }\n",
              "</style>\n",
              "<table border=\"1\" class=\"dataframe\">\n",
              "  <thead>\n",
              "    <tr style=\"text-align: right;\">\n",
              "      <th></th>\n",
              "      <th>ID</th>\n",
              "      <th>YEAR</th>\n",
              "      <th>MONTH</th>\n",
              "      <th>DAY</th>\n",
              "      <th>DAY_OF_WEEK</th>\n",
              "      <th>AIRLINE</th>\n",
              "      <th>FLIGHT_NUMBER</th>\n",
              "      <th>TAIL_NUMBER</th>\n",
              "      <th>ORIGIN_AIRPORT</th>\n",
              "      <th>DESTINATION_AIRPORT</th>\n",
              "      <th>...</th>\n",
              "      <th>AIR_TIME</th>\n",
              "      <th>DISTANCE</th>\n",
              "      <th>SCHEDULED_ARRIVAL</th>\n",
              "      <th>DIVERTED</th>\n",
              "      <th>CANCELLED</th>\n",
              "      <th>CANCELLATION_REASON</th>\n",
              "      <th>Representation_x_mean</th>\n",
              "      <th>Representation_y_mean</th>\n",
              "      <th>Mean</th>\n",
              "      <th>ARRIVAL_DELAY</th>\n",
              "    </tr>\n",
              "  </thead>\n",
              "  <tbody>\n",
              "    <tr>\n",
              "      <th>0</th>\n",
              "      <td>5133505</td>\n",
              "      <td>2021</td>\n",
              "      <td>2</td>\n",
              "      <td>14</td>\n",
              "      <td>6</td>\n",
              "      <td>AA</td>\n",
              "      <td>1077</td>\n",
              "      <td>N454AA</td>\n",
              "      <td>BWI</td>\n",
              "      <td>DFW</td>\n",
              "      <td>...</td>\n",
              "      <td>168.0</td>\n",
              "      <td>1217</td>\n",
              "      <td>1115</td>\n",
              "      <td>0</td>\n",
              "      <td>0</td>\n",
              "      <td>NaN</td>\n",
              "      <td>0.405436</td>\n",
              "      <td>0.260335</td>\n",
              "      <td>0.332885</td>\n",
              "      <td>-35.0</td>\n",
              "    </tr>\n",
              "    <tr>\n",
              "      <th>1</th>\n",
              "      <td>5051259</td>\n",
              "      <td>2021</td>\n",
              "      <td>12</td>\n",
              "      <td>4</td>\n",
              "      <td>5</td>\n",
              "      <td>WN</td>\n",
              "      <td>2510</td>\n",
              "      <td>N656SW</td>\n",
              "      <td>ONT</td>\n",
              "      <td>SMF</td>\n",
              "      <td>...</td>\n",
              "      <td>65.0</td>\n",
              "      <td>390</td>\n",
              "      <td>1050</td>\n",
              "      <td>0</td>\n",
              "      <td>0</td>\n",
              "      <td>NaN</td>\n",
              "      <td>0.225305</td>\n",
              "      <td>0.277105</td>\n",
              "      <td>0.251205</td>\n",
              "      <td>-2.0</td>\n",
              "    </tr>\n",
              "    <tr>\n",
              "      <th>2</th>\n",
              "      <td>5340710</td>\n",
              "      <td>2021</td>\n",
              "      <td>7</td>\n",
              "      <td>7</td>\n",
              "      <td>2</td>\n",
              "      <td>MQ</td>\n",
              "      <td>3204</td>\n",
              "      <td>N696MQ</td>\n",
              "      <td>DFW</td>\n",
              "      <td>LCH</td>\n",
              "      <td>...</td>\n",
              "      <td>52.0</td>\n",
              "      <td>295</td>\n",
              "      <td>2323</td>\n",
              "      <td>0</td>\n",
              "      <td>0</td>\n",
              "      <td>NaN</td>\n",
              "      <td>0.260335</td>\n",
              "      <td>0.130475</td>\n",
              "      <td>0.195405</td>\n",
              "      <td>-10.0</td>\n",
              "    </tr>\n",
              "    <tr>\n",
              "      <th>3</th>\n",
              "      <td>5445255</td>\n",
              "      <td>2021</td>\n",
              "      <td>1</td>\n",
              "      <td>4</td>\n",
              "      <td>7</td>\n",
              "      <td>B6</td>\n",
              "      <td>777</td>\n",
              "      <td>N585JB</td>\n",
              "      <td>BOS</td>\n",
              "      <td>LAS</td>\n",
              "      <td>...</td>\n",
              "      <td>329.0</td>\n",
              "      <td>2381</td>\n",
              "      <td>2308</td>\n",
              "      <td>0</td>\n",
              "      <td>0</td>\n",
              "      <td>NaN</td>\n",
              "      <td>0.426091</td>\n",
              "      <td>0.157626</td>\n",
              "      <td>0.291859</td>\n",
              "      <td>-1.0</td>\n",
              "    </tr>\n",
              "    <tr>\n",
              "      <th>4</th>\n",
              "      <td>2473736</td>\n",
              "      <td>2021</td>\n",
              "      <td>6</td>\n",
              "      <td>16</td>\n",
              "      <td>2</td>\n",
              "      <td>WN</td>\n",
              "      <td>4924</td>\n",
              "      <td>N462WN</td>\n",
              "      <td>LAX</td>\n",
              "      <td>OAK</td>\n",
              "      <td>...</td>\n",
              "      <td>54.0</td>\n",
              "      <td>337</td>\n",
              "      <td>1850</td>\n",
              "      <td>0</td>\n",
              "      <td>0</td>\n",
              "      <td>NaN</td>\n",
              "      <td>0.356632</td>\n",
              "      <td>0.292627</td>\n",
              "      <td>0.324630</td>\n",
              "      <td>31.0</td>\n",
              "    </tr>\n",
              "    <tr>\n",
              "      <th>...</th>\n",
              "      <td>...</td>\n",
              "      <td>...</td>\n",
              "      <td>...</td>\n",
              "      <td>...</td>\n",
              "      <td>...</td>\n",
              "      <td>...</td>\n",
              "      <td>...</td>\n",
              "      <td>...</td>\n",
              "      <td>...</td>\n",
              "      <td>...</td>\n",
              "      <td>...</td>\n",
              "      <td>...</td>\n",
              "      <td>...</td>\n",
              "      <td>...</td>\n",
              "      <td>...</td>\n",
              "      <td>...</td>\n",
              "      <td>...</td>\n",
              "      <td>...</td>\n",
              "      <td>...</td>\n",
              "      <td>...</td>\n",
              "      <td>...</td>\n",
              "    </tr>\n",
              "    <tr>\n",
              "      <th>5314003</th>\n",
              "      <td>3089553</td>\n",
              "      <td>2021</td>\n",
              "      <td>12</td>\n",
              "      <td>22</td>\n",
              "      <td>2</td>\n",
              "      <td>DL</td>\n",
              "      <td>611</td>\n",
              "      <td>N199DN</td>\n",
              "      <td>LAX</td>\n",
              "      <td>HNL</td>\n",
              "      <td>...</td>\n",
              "      <td>312.0</td>\n",
              "      <td>2556</td>\n",
              "      <td>1230</td>\n",
              "      <td>0</td>\n",
              "      <td>0</td>\n",
              "      <td>NaN</td>\n",
              "      <td>0.356632</td>\n",
              "      <td>0.275669</td>\n",
              "      <td>0.316151</td>\n",
              "      <td>-16.0</td>\n",
              "    </tr>\n",
              "    <tr>\n",
              "      <th>5314004</th>\n",
              "      <td>4917798</td>\n",
              "      <td>2021</td>\n",
              "      <td>9</td>\n",
              "      <td>1</td>\n",
              "      <td>2</td>\n",
              "      <td>OO</td>\n",
              "      <td>4589</td>\n",
              "      <td>N803SK</td>\n",
              "      <td>LGB</td>\n",
              "      <td>SLC</td>\n",
              "      <td>...</td>\n",
              "      <td>83.0</td>\n",
              "      <td>588</td>\n",
              "      <td>1553</td>\n",
              "      <td>0</td>\n",
              "      <td>0</td>\n",
              "      <td>NaN</td>\n",
              "      <td>0.305286</td>\n",
              "      <td>0.407714</td>\n",
              "      <td>0.356500</td>\n",
              "      <td>-11.0</td>\n",
              "    </tr>\n",
              "    <tr>\n",
              "      <th>5314005</th>\n",
              "      <td>3723223</td>\n",
              "      <td>2021</td>\n",
              "      <td>6</td>\n",
              "      <td>16</td>\n",
              "      <td>2</td>\n",
              "      <td>EV</td>\n",
              "      <td>2668</td>\n",
              "      <td>N680AE</td>\n",
              "      <td>VPS</td>\n",
              "      <td>DFW</td>\n",
              "      <td>...</td>\n",
              "      <td>93.0</td>\n",
              "      <td>641</td>\n",
              "      <td>1620</td>\n",
              "      <td>0</td>\n",
              "      <td>0</td>\n",
              "      <td>NaN</td>\n",
              "      <td>0.127686</td>\n",
              "      <td>0.260335</td>\n",
              "      <td>0.194011</td>\n",
              "      <td>310.0</td>\n",
              "    </tr>\n",
              "    <tr>\n",
              "      <th>5314006</th>\n",
              "      <td>690512</td>\n",
              "      <td>2021</td>\n",
              "      <td>4</td>\n",
              "      <td>8</td>\n",
              "      <td>3</td>\n",
              "      <td>DL</td>\n",
              "      <td>1731</td>\n",
              "      <td>N595NW</td>\n",
              "      <td>LAX</td>\n",
              "      <td>ATL</td>\n",
              "      <td>...</td>\n",
              "      <td>213.0</td>\n",
              "      <td>1947</td>\n",
              "      <td>824</td>\n",
              "      <td>0</td>\n",
              "      <td>0</td>\n",
              "      <td>NaN</td>\n",
              "      <td>0.356632</td>\n",
              "      <td>0.252710</td>\n",
              "      <td>0.304671</td>\n",
              "      <td>-2.0</td>\n",
              "    </tr>\n",
              "    <tr>\n",
              "      <th>5314007</th>\n",
              "      <td>3455780</td>\n",
              "      <td>2021</td>\n",
              "      <td>7</td>\n",
              "      <td>2</td>\n",
              "      <td>4</td>\n",
              "      <td>WN</td>\n",
              "      <td>923</td>\n",
              "      <td>N223WN</td>\n",
              "      <td>MDW</td>\n",
              "      <td>SEA</td>\n",
              "      <td>...</td>\n",
              "      <td>241.0</td>\n",
              "      <td>1733</td>\n",
              "      <td>1625</td>\n",
              "      <td>0</td>\n",
              "      <td>0</td>\n",
              "      <td>NaN</td>\n",
              "      <td>0.341911</td>\n",
              "      <td>0.364347</td>\n",
              "      <td>0.353129</td>\n",
              "      <td>2.0</td>\n",
              "    </tr>\n",
              "  </tbody>\n",
              "</table>\n",
              "<p>5314007 rows × 26 columns</p>\n",
              "</div>\n",
              "    <div class=\"colab-df-buttons\">\n",
              "\n",
              "  <div class=\"colab-df-container\">\n",
              "    <button class=\"colab-df-convert\" onclick=\"convertToInteractive('df-245bd2da-ab88-457f-b595-ad9ca86a6646')\"\n",
              "            title=\"Convert this dataframe to an interactive table.\"\n",
              "            style=\"display:none;\">\n",
              "\n",
              "  <svg xmlns=\"http://www.w3.org/2000/svg\" height=\"24px\" viewBox=\"0 -960 960 960\">\n",
              "    <path d=\"M120-120v-720h720v720H120Zm60-500h600v-160H180v160Zm220 220h160v-160H400v160Zm0 220h160v-160H400v160ZM180-400h160v-160H180v160Zm440 0h160v-160H620v160ZM180-180h160v-160H180v160Zm440 0h160v-160H620v160Z\"/>\n",
              "  </svg>\n",
              "    </button>\n",
              "\n",
              "  <style>\n",
              "    .colab-df-container {\n",
              "      display:flex;\n",
              "      gap: 12px;\n",
              "    }\n",
              "\n",
              "    .colab-df-convert {\n",
              "      background-color: #E8F0FE;\n",
              "      border: none;\n",
              "      border-radius: 50%;\n",
              "      cursor: pointer;\n",
              "      display: none;\n",
              "      fill: #1967D2;\n",
              "      height: 32px;\n",
              "      padding: 0 0 0 0;\n",
              "      width: 32px;\n",
              "    }\n",
              "\n",
              "    .colab-df-convert:hover {\n",
              "      background-color: #E2EBFA;\n",
              "      box-shadow: 0px 1px 2px rgba(60, 64, 67, 0.3), 0px 1px 3px 1px rgba(60, 64, 67, 0.15);\n",
              "      fill: #174EA6;\n",
              "    }\n",
              "\n",
              "    .colab-df-buttons div {\n",
              "      margin-bottom: 4px;\n",
              "    }\n",
              "\n",
              "    [theme=dark] .colab-df-convert {\n",
              "      background-color: #3B4455;\n",
              "      fill: #D2E3FC;\n",
              "    }\n",
              "\n",
              "    [theme=dark] .colab-df-convert:hover {\n",
              "      background-color: #434B5C;\n",
              "      box-shadow: 0px 1px 3px 1px rgba(0, 0, 0, 0.15);\n",
              "      filter: drop-shadow(0px 1px 2px rgba(0, 0, 0, 0.3));\n",
              "      fill: #FFFFFF;\n",
              "    }\n",
              "  </style>\n",
              "\n",
              "    <script>\n",
              "      const buttonEl =\n",
              "        document.querySelector('#df-245bd2da-ab88-457f-b595-ad9ca86a6646 button.colab-df-convert');\n",
              "      buttonEl.style.display =\n",
              "        google.colab.kernel.accessAllowed ? 'block' : 'none';\n",
              "\n",
              "      async function convertToInteractive(key) {\n",
              "        const element = document.querySelector('#df-245bd2da-ab88-457f-b595-ad9ca86a6646');\n",
              "        const dataTable =\n",
              "          await google.colab.kernel.invokeFunction('convertToInteractive',\n",
              "                                                    [key], {});\n",
              "        if (!dataTable) return;\n",
              "\n",
              "        const docLinkHtml = 'Like what you see? Visit the ' +\n",
              "          '<a target=\"_blank\" href=https://colab.research.google.com/notebooks/data_table.ipynb>data table notebook</a>'\n",
              "          + ' to learn more about interactive tables.';\n",
              "        element.innerHTML = '';\n",
              "        dataTable['output_type'] = 'display_data';\n",
              "        await google.colab.output.renderOutput(dataTable, element);\n",
              "        const docLink = document.createElement('div');\n",
              "        docLink.innerHTML = docLinkHtml;\n",
              "        element.appendChild(docLink);\n",
              "      }\n",
              "    </script>\n",
              "  </div>\n",
              "\n",
              "\n",
              "<div id=\"df-39c902fb-6809-4409-be08-d4671b910b5a\">\n",
              "  <button class=\"colab-df-quickchart\" onclick=\"quickchart('df-39c902fb-6809-4409-be08-d4671b910b5a')\"\n",
              "            title=\"Suggest charts\"\n",
              "            style=\"display:none;\">\n",
              "\n",
              "<svg xmlns=\"http://www.w3.org/2000/svg\" height=\"24px\"viewBox=\"0 0 24 24\"\n",
              "     width=\"24px\">\n",
              "    <g>\n",
              "        <path d=\"M19 3H5c-1.1 0-2 .9-2 2v14c0 1.1.9 2 2 2h14c1.1 0 2-.9 2-2V5c0-1.1-.9-2-2-2zM9 17H7v-7h2v7zm4 0h-2V7h2v10zm4 0h-2v-4h2v4z\"/>\n",
              "    </g>\n",
              "</svg>\n",
              "  </button>\n",
              "\n",
              "<style>\n",
              "  .colab-df-quickchart {\n",
              "      --bg-color: #E8F0FE;\n",
              "      --fill-color: #1967D2;\n",
              "      --hover-bg-color: #E2EBFA;\n",
              "      --hover-fill-color: #174EA6;\n",
              "      --disabled-fill-color: #AAA;\n",
              "      --disabled-bg-color: #DDD;\n",
              "  }\n",
              "\n",
              "  [theme=dark] .colab-df-quickchart {\n",
              "      --bg-color: #3B4455;\n",
              "      --fill-color: #D2E3FC;\n",
              "      --hover-bg-color: #434B5C;\n",
              "      --hover-fill-color: #FFFFFF;\n",
              "      --disabled-bg-color: #3B4455;\n",
              "      --disabled-fill-color: #666;\n",
              "  }\n",
              "\n",
              "  .colab-df-quickchart {\n",
              "    background-color: var(--bg-color);\n",
              "    border: none;\n",
              "    border-radius: 50%;\n",
              "    cursor: pointer;\n",
              "    display: none;\n",
              "    fill: var(--fill-color);\n",
              "    height: 32px;\n",
              "    padding: 0;\n",
              "    width: 32px;\n",
              "  }\n",
              "\n",
              "  .colab-df-quickchart:hover {\n",
              "    background-color: var(--hover-bg-color);\n",
              "    box-shadow: 0 1px 2px rgba(60, 64, 67, 0.3), 0 1px 3px 1px rgba(60, 64, 67, 0.15);\n",
              "    fill: var(--button-hover-fill-color);\n",
              "  }\n",
              "\n",
              "  .colab-df-quickchart-complete:disabled,\n",
              "  .colab-df-quickchart-complete:disabled:hover {\n",
              "    background-color: var(--disabled-bg-color);\n",
              "    fill: var(--disabled-fill-color);\n",
              "    box-shadow: none;\n",
              "  }\n",
              "\n",
              "  .colab-df-spinner {\n",
              "    border: 2px solid var(--fill-color);\n",
              "    border-color: transparent;\n",
              "    border-bottom-color: var(--fill-color);\n",
              "    animation:\n",
              "      spin 1s steps(1) infinite;\n",
              "  }\n",
              "\n",
              "  @keyframes spin {\n",
              "    0% {\n",
              "      border-color: transparent;\n",
              "      border-bottom-color: var(--fill-color);\n",
              "      border-left-color: var(--fill-color);\n",
              "    }\n",
              "    20% {\n",
              "      border-color: transparent;\n",
              "      border-left-color: var(--fill-color);\n",
              "      border-top-color: var(--fill-color);\n",
              "    }\n",
              "    30% {\n",
              "      border-color: transparent;\n",
              "      border-left-color: var(--fill-color);\n",
              "      border-top-color: var(--fill-color);\n",
              "      border-right-color: var(--fill-color);\n",
              "    }\n",
              "    40% {\n",
              "      border-color: transparent;\n",
              "      border-right-color: var(--fill-color);\n",
              "      border-top-color: var(--fill-color);\n",
              "    }\n",
              "    60% {\n",
              "      border-color: transparent;\n",
              "      border-right-color: var(--fill-color);\n",
              "    }\n",
              "    80% {\n",
              "      border-color: transparent;\n",
              "      border-right-color: var(--fill-color);\n",
              "      border-bottom-color: var(--fill-color);\n",
              "    }\n",
              "    90% {\n",
              "      border-color: transparent;\n",
              "      border-bottom-color: var(--fill-color);\n",
              "    }\n",
              "  }\n",
              "</style>\n",
              "\n",
              "  <script>\n",
              "    async function quickchart(key) {\n",
              "      const quickchartButtonEl =\n",
              "        document.querySelector('#' + key + ' button');\n",
              "      quickchartButtonEl.disabled = true;  // To prevent multiple clicks.\n",
              "      quickchartButtonEl.classList.add('colab-df-spinner');\n",
              "      try {\n",
              "        const charts = await google.colab.kernel.invokeFunction(\n",
              "            'suggestCharts', [key], {});\n",
              "      } catch (error) {\n",
              "        console.error('Error during call to suggestCharts:', error);\n",
              "      }\n",
              "      quickchartButtonEl.classList.remove('colab-df-spinner');\n",
              "      quickchartButtonEl.classList.add('colab-df-quickchart-complete');\n",
              "    }\n",
              "    (() => {\n",
              "      let quickchartButtonEl =\n",
              "        document.querySelector('#df-39c902fb-6809-4409-be08-d4671b910b5a button');\n",
              "      quickchartButtonEl.style.display =\n",
              "        google.colab.kernel.accessAllowed ? 'block' : 'none';\n",
              "    })();\n",
              "  </script>\n",
              "</div>\n",
              "    </div>\n",
              "  </div>\n"
            ]
          },
          "metadata": {},
          "execution_count": 41
        }
      ]
    },
    {
      "cell_type": "code",
      "source": [
        "X_train, X_test, y_train, y_test = train_test_split(\n",
        "    df.drop('ARRIVAL_DELAY', axis=1),\n",
        "    df['ARRIVAL_DELAY'],\n",
        "    test_size=0.02,\n",
        "    random_state=45\n",
        ")"
      ],
      "metadata": {
        "id": "BOgrTURsnOgt"
      },
      "execution_count": null,
      "outputs": []
    },
    {
      "cell_type": "code",
      "source": [
        "label_X_train = X_train.copy()\n",
        "label_X_test = X_test.copy()"
      ],
      "metadata": {
        "id": "3OEsysR-nRCw"
      },
      "execution_count": null,
      "outputs": []
    },
    {
      "cell_type": "code",
      "source": [
        "label_encoder = LabelEncoder()\n",
        "label_X_train['TAIL_NUMBER'] = label_encoder.fit_transform(X_train['TAIL_NUMBER'])\n",
        "label_X_test['TAIL_NUMBER'] = label_encoder.transform(X_test['TAIL_NUMBER'])"
      ],
      "metadata": {
        "id": "QIyZKp3XnUoO"
      },
      "execution_count": null,
      "outputs": []
    },
    {
      "cell_type": "code",
      "source": [
        "label_encoder2 = LabelEncoder()\n",
        "label_X_train['AIRLINE'] = label_encoder2.fit_transform(X_train['AIRLINE'])\n",
        "label_X_test['AIRLINE'] = label_encoder2.transform(X_test['AIRLINE'])"
      ],
      "metadata": {
        "id": "-eEweVKInZON"
      },
      "execution_count": null,
      "outputs": []
    },
    {
      "cell_type": "code",
      "source": [
        "combined_data = pd.concat([label_X_train, label_X_test])\n",
        "\n",
        "label_encoder3 = LabelEncoder()\n",
        "combined_data['ORIGIN_AIRPORT'] = label_encoder3.fit_transform(combined_data['ORIGIN_AIRPORT'])\n",
        "combined_data['DESTINATION_AIRPORT'] = label_encoder3.fit_transform(combined_data['DESTINATION_AIRPORT'])\n",
        "\n",
        "label_X_train = combined_data[:len(label_X_train)]\n",
        "label_X_test = combined_data[len(label_X_train):]"
      ],
      "metadata": {
        "id": "2AepAwZOnyr_"
      },
      "execution_count": null,
      "outputs": []
    },
    {
      "cell_type": "code",
      "source": [
        "X_train = label_X_train\n",
        "X_test = label_X_test"
      ],
      "metadata": {
        "id": "x_cSsxepn0jc"
      },
      "execution_count": null,
      "outputs": []
    },
    {
      "cell_type": "code",
      "source": [
        "best_columns = [\"ID\", \"SCHEDULED_DEPARTURE\", \"DEPARTURE_TIME\", \"DEPARTURE_DELAY\",\n",
        "                \"TAXI_OUT\", \"WHEELS_OFF\", \"SCHEDULED_ARRIVAL\", \"ORIGIN_AIRPORT\",\n",
        "                \"DESTINATION_AIRPORT\",'Representation_x_mean','Representation_y_mean', 'Mean'] #Without mean #1 option\n",
        "                #'kolumna_y_1','kolumna_y_2','kolumna_y_3','kolumna_y_4','kolumna_y_5','kolumna_y_6','kolumna_y_7','kolumna_y_8','kolumna_y_9','kolumna_y_10'\n",
        "               #, 'kolumna_x_1','kolumna_x_2','kolumna_x_3','kolumna_x_4','kolumna_yx_5','kolumna_x_6','kolumna_x_7','kolumna_x_8','kolumna_x_9','kolumna_x_10'] #With mean #2 option"
      ],
      "metadata": {
        "id": "g7WjGOzpn2Wr"
      },
      "execution_count": null,
      "outputs": []
    },
    {
      "cell_type": "code",
      "source": [
        "X_train = X_train[best_columns]\n",
        "X_test = X_test[best_columns]"
      ],
      "metadata": {
        "id": "TpdrECaBn4QQ"
      },
      "execution_count": null,
      "outputs": []
    },
    {
      "cell_type": "code",
      "source": [
        "cols_with_missing_train = X_train.columns[X_train.isnull().any()].tolist()\n",
        "cols_with_missing_test = X_test.columns[X_test.isnull().any()].tolist()\n",
        "print(cols_with_missing_train, cols_with_missing_test)\n",
        "\n",
        "cols_with_missing = list(set(cols_with_missing_train + cols_with_missing_test))\n",
        "\n",
        "numeric_cols = X_train.select_dtypes(include=['number']).columns\n",
        "categorical_cols = X_train.select_dtypes(exclude=['number']).columns\n",
        "\n",
        "numeric_transformer = Pipeline(steps=[\n",
        "    ('imputer', SimpleImputer(strategy='mean'))\n",
        "])\n",
        "\n",
        "categorical_transformer = Pipeline(steps=[\n",
        "    ('imputer', SimpleImputer(strategy='most_frequent'))\n",
        "])\n",
        "\n",
        "preprocessor = ColumnTransformer(\n",
        "    transformers=[\n",
        "        ('num', numeric_transformer, numeric_cols),\n",
        "        ('cat', categorical_transformer, categorical_cols)\n",
        "    ])\n",
        "\n",
        "imputed_X_train = pd.DataFrame(preprocessor.fit_transform(X_train))\n",
        "imputed_X_test = pd.DataFrame(preprocessor.transform(X_test))\n",
        "\n",
        "numeric_cols = X_train.select_dtypes(include=['number']).columns.tolist()\n",
        "categorical_cols = X_train.select_dtypes(exclude=['number']).columns.tolist()\n",
        "\n",
        "print(f\"Number of columns in imputed_X_train: {len(imputed_X_train.columns)}\")\n",
        "print(f\"Number of columns in imputed_X_test: {len(imputed_X_test.columns)}\")\n",
        "\n",
        "imputed_X_train.columns = numeric_cols + categorical_cols\n",
        "imputed_X_test.columns = numeric_cols + categorical_cols"
      ],
      "metadata": {
        "colab": {
          "base_uri": "https://localhost:8080/"
        },
        "id": "3ItYHww1oDDU",
        "outputId": "e2893d3f-f50f-4f95-ceba-a5c404c4bfd7"
      },
      "execution_count": null,
      "outputs": [
        {
          "output_type": "stream",
          "name": "stdout",
          "text": [
            "[] []\n",
            "Number of columns in imputed_X_train: 12\n",
            "Number of columns in imputed_X_test: 12\n"
          ]
        }
      ]
    },
    {
      "cell_type": "code",
      "source": [
        "X_train = imputed_X_train.astype(int)\n",
        "X_test = imputed_X_test.astype(int)"
      ],
      "metadata": {
        "id": "VW_JrdLBoE4C"
      },
      "execution_count": null,
      "outputs": []
    },
    {
      "cell_type": "code",
      "source": [
        "X = X_train.drop(columns=['ID'])\n",
        "X_t = X_test.drop(columns=['ID'])"
      ],
      "metadata": {
        "id": "oqtCo0R7oHG_"
      },
      "execution_count": null,
      "outputs": []
    },
    {
      "cell_type": "code",
      "source": [
        "from xgboost import XGBRegressor\n",
        "\n",
        "xgb_model = XGBRegressor(n_estimators=800, learning_rate=0.05, n_jobs=4)\n",
        "\n",
        "xgb_model.fit(X, y_train)"
      ],
      "metadata": {
        "colab": {
          "base_uri": "https://localhost:8080/"
        },
        "id": "EteB98WkoQU9",
        "outputId": "cc27f68d-6694-4700-dd97-c7510344964a"
      },
      "execution_count": null,
      "outputs": [
        {
          "output_type": "execute_result",
          "data": {
            "text/plain": [
              "XGBRegressor(base_score=None, booster=None, callbacks=None,\n",
              "             colsample_bylevel=None, colsample_bynode=None,\n",
              "             colsample_bytree=None, device=None, early_stopping_rounds=None,\n",
              "             enable_categorical=False, eval_metric=None, feature_types=None,\n",
              "             gamma=None, grow_policy=None, importance_type=None,\n",
              "             interaction_constraints=None, learning_rate=0.05, max_bin=None,\n",
              "             max_cat_threshold=None, max_cat_to_onehot=None,\n",
              "             max_delta_step=None, max_depth=None, max_leaves=None,\n",
              "             min_child_weight=None, missing=nan, monotone_constraints=None,\n",
              "             multi_strategy=None, n_estimators=800, n_jobs=4,\n",
              "             num_parallel_tree=None, random_state=None, ...)"
            ],
            "text/html": [
              "<style>#sk-container-id-1 {color: black;background-color: white;}#sk-container-id-1 pre{padding: 0;}#sk-container-id-1 div.sk-toggleable {background-color: white;}#sk-container-id-1 label.sk-toggleable__label {cursor: pointer;display: block;width: 100%;margin-bottom: 0;padding: 0.3em;box-sizing: border-box;text-align: center;}#sk-container-id-1 label.sk-toggleable__label-arrow:before {content: \"▸\";float: left;margin-right: 0.25em;color: #696969;}#sk-container-id-1 label.sk-toggleable__label-arrow:hover:before {color: black;}#sk-container-id-1 div.sk-estimator:hover label.sk-toggleable__label-arrow:before {color: black;}#sk-container-id-1 div.sk-toggleable__content {max-height: 0;max-width: 0;overflow: hidden;text-align: left;background-color: #f0f8ff;}#sk-container-id-1 div.sk-toggleable__content pre {margin: 0.2em;color: black;border-radius: 0.25em;background-color: #f0f8ff;}#sk-container-id-1 input.sk-toggleable__control:checked~div.sk-toggleable__content {max-height: 200px;max-width: 100%;overflow: auto;}#sk-container-id-1 input.sk-toggleable__control:checked~label.sk-toggleable__label-arrow:before {content: \"▾\";}#sk-container-id-1 div.sk-estimator input.sk-toggleable__control:checked~label.sk-toggleable__label {background-color: #d4ebff;}#sk-container-id-1 div.sk-label input.sk-toggleable__control:checked~label.sk-toggleable__label {background-color: #d4ebff;}#sk-container-id-1 input.sk-hidden--visually {border: 0;clip: rect(1px 1px 1px 1px);clip: rect(1px, 1px, 1px, 1px);height: 1px;margin: -1px;overflow: hidden;padding: 0;position: absolute;width: 1px;}#sk-container-id-1 div.sk-estimator {font-family: monospace;background-color: #f0f8ff;border: 1px dotted black;border-radius: 0.25em;box-sizing: border-box;margin-bottom: 0.5em;}#sk-container-id-1 div.sk-estimator:hover {background-color: #d4ebff;}#sk-container-id-1 div.sk-parallel-item::after {content: \"\";width: 100%;border-bottom: 1px solid gray;flex-grow: 1;}#sk-container-id-1 div.sk-label:hover label.sk-toggleable__label {background-color: #d4ebff;}#sk-container-id-1 div.sk-serial::before {content: \"\";position: absolute;border-left: 1px solid gray;box-sizing: border-box;top: 0;bottom: 0;left: 50%;z-index: 0;}#sk-container-id-1 div.sk-serial {display: flex;flex-direction: column;align-items: center;background-color: white;padding-right: 0.2em;padding-left: 0.2em;position: relative;}#sk-container-id-1 div.sk-item {position: relative;z-index: 1;}#sk-container-id-1 div.sk-parallel {display: flex;align-items: stretch;justify-content: center;background-color: white;position: relative;}#sk-container-id-1 div.sk-item::before, #sk-container-id-1 div.sk-parallel-item::before {content: \"\";position: absolute;border-left: 1px solid gray;box-sizing: border-box;top: 0;bottom: 0;left: 50%;z-index: -1;}#sk-container-id-1 div.sk-parallel-item {display: flex;flex-direction: column;z-index: 1;position: relative;background-color: white;}#sk-container-id-1 div.sk-parallel-item:first-child::after {align-self: flex-end;width: 50%;}#sk-container-id-1 div.sk-parallel-item:last-child::after {align-self: flex-start;width: 50%;}#sk-container-id-1 div.sk-parallel-item:only-child::after {width: 0;}#sk-container-id-1 div.sk-dashed-wrapped {border: 1px dashed gray;margin: 0 0.4em 0.5em 0.4em;box-sizing: border-box;padding-bottom: 0.4em;background-color: white;}#sk-container-id-1 div.sk-label label {font-family: monospace;font-weight: bold;display: inline-block;line-height: 1.2em;}#sk-container-id-1 div.sk-label-container {text-align: center;}#sk-container-id-1 div.sk-container {/* jupyter's `normalize.less` sets `[hidden] { display: none; }` but bootstrap.min.css set `[hidden] { display: none !important; }` so we also need the `!important` here to be able to override the default hidden behavior on the sphinx rendered scikit-learn.org. See: https://github.com/scikit-learn/scikit-learn/issues/21755 */display: inline-block !important;position: relative;}#sk-container-id-1 div.sk-text-repr-fallback {display: none;}</style><div id=\"sk-container-id-1\" class=\"sk-top-container\"><div class=\"sk-text-repr-fallback\"><pre>XGBRegressor(base_score=None, booster=None, callbacks=None,\n",
              "             colsample_bylevel=None, colsample_bynode=None,\n",
              "             colsample_bytree=None, device=None, early_stopping_rounds=None,\n",
              "             enable_categorical=False, eval_metric=None, feature_types=None,\n",
              "             gamma=None, grow_policy=None, importance_type=None,\n",
              "             interaction_constraints=None, learning_rate=0.05, max_bin=None,\n",
              "             max_cat_threshold=None, max_cat_to_onehot=None,\n",
              "             max_delta_step=None, max_depth=None, max_leaves=None,\n",
              "             min_child_weight=None, missing=nan, monotone_constraints=None,\n",
              "             multi_strategy=None, n_estimators=800, n_jobs=4,\n",
              "             num_parallel_tree=None, random_state=None, ...)</pre><b>In a Jupyter environment, please rerun this cell to show the HTML representation or trust the notebook. <br />On GitHub, the HTML representation is unable to render, please try loading this page with nbviewer.org.</b></div><div class=\"sk-container\" hidden><div class=\"sk-item\"><div class=\"sk-estimator sk-toggleable\"><input class=\"sk-toggleable__control sk-hidden--visually\" id=\"sk-estimator-id-1\" type=\"checkbox\" checked><label for=\"sk-estimator-id-1\" class=\"sk-toggleable__label sk-toggleable__label-arrow\">XGBRegressor</label><div class=\"sk-toggleable__content\"><pre>XGBRegressor(base_score=None, booster=None, callbacks=None,\n",
              "             colsample_bylevel=None, colsample_bynode=None,\n",
              "             colsample_bytree=None, device=None, early_stopping_rounds=None,\n",
              "             enable_categorical=False, eval_metric=None, feature_types=None,\n",
              "             gamma=None, grow_policy=None, importance_type=None,\n",
              "             interaction_constraints=None, learning_rate=0.05, max_bin=None,\n",
              "             max_cat_threshold=None, max_cat_to_onehot=None,\n",
              "             max_delta_step=None, max_depth=None, max_leaves=None,\n",
              "             min_child_weight=None, missing=nan, monotone_constraints=None,\n",
              "             multi_strategy=None, n_estimators=800, n_jobs=4,\n",
              "             num_parallel_tree=None, random_state=None, ...)</pre></div></div></div></div></div>"
            ]
          },
          "metadata": {},
          "execution_count": 54
        }
      ]
    },
    {
      "cell_type": "code",
      "source": [
        "y_test_pred = xgb_model.predict(X_t)\n",
        "\n",
        "submission_df = pd.DataFrame(data={'ID': X_test.ID.values,\n",
        "                                   'ARRIVAL_DELAY': y_test_pred.squeeze()})\n",
        "\n",
        "submission_df.to_csv(\"submission_xgboost.csv\", index=False)"
      ],
      "metadata": {
        "id": "pJGzNX2loSdh"
      },
      "execution_count": null,
      "outputs": []
    },
    {
      "cell_type": "code",
      "source": [
        "from sklearn.metrics import mean_absolute_error, mean_squared_error, r2_score\n",
        "\n",
        "y_test = y_test\n",
        "y_pred = y_test_pred\n",
        "\n",
        "mae = mean_absolute_error(y_test, y_pred)\n",
        "mse = mean_squared_error(y_test, y_pred)\n",
        "rmse = mean_squared_error(y_test, y_pred, squared=False)\n",
        "r2 = r2_score(y_test, y_pred)\n",
        "\n",
        "\n",
        "print(f'MAE: {mae}')\n",
        "print(f'MSE: {mse}')\n",
        "print(f'RMSE: {rmse}')\n",
        "print(f'R^2: {r2}')"
      ],
      "metadata": {
        "colab": {
          "base_uri": "https://localhost:8080/"
        },
        "id": "kcWVtlJcoSjt",
        "outputId": "c0acce0d-07e4-4282-cf77-f3a7ccebd024"
      },
      "execution_count": null,
      "outputs": [
        {
          "output_type": "stream",
          "name": "stdout",
          "text": [
            "MAE: 7.091264574839416\n",
            "MSE: 111.14926439855155\n",
            "RMSE: 10.542735147889827\n",
            "R^2: 0.9285475901548061\n"
          ]
        }
      ]
    },
    {
      "cell_type": "code",
      "source": [
        "from sklearn.tree import DecisionTreeRegressor\n",
        "\n",
        "tree_model = DecisionTreeRegressor(max_depth=7, min_samples_split=2, min_samples_leaf=1, max_features=None, random_state=42)\n",
        "\n",
        "tree_model.fit(X, y_train)"
      ],
      "metadata": {
        "colab": {
          "base_uri": "https://localhost:8080/"
        },
        "id": "C8Vi1mOwqRjE",
        "outputId": "3e0a4960-3750-4b41-d836-58e96809186c"
      },
      "execution_count": null,
      "outputs": [
        {
          "output_type": "execute_result",
          "data": {
            "text/plain": [
              "DecisionTreeRegressor(max_depth=7, random_state=42)"
            ],
            "text/html": [
              "<style>#sk-container-id-2 {color: black;background-color: white;}#sk-container-id-2 pre{padding: 0;}#sk-container-id-2 div.sk-toggleable {background-color: white;}#sk-container-id-2 label.sk-toggleable__label {cursor: pointer;display: block;width: 100%;margin-bottom: 0;padding: 0.3em;box-sizing: border-box;text-align: center;}#sk-container-id-2 label.sk-toggleable__label-arrow:before {content: \"▸\";float: left;margin-right: 0.25em;color: #696969;}#sk-container-id-2 label.sk-toggleable__label-arrow:hover:before {color: black;}#sk-container-id-2 div.sk-estimator:hover label.sk-toggleable__label-arrow:before {color: black;}#sk-container-id-2 div.sk-toggleable__content {max-height: 0;max-width: 0;overflow: hidden;text-align: left;background-color: #f0f8ff;}#sk-container-id-2 div.sk-toggleable__content pre {margin: 0.2em;color: black;border-radius: 0.25em;background-color: #f0f8ff;}#sk-container-id-2 input.sk-toggleable__control:checked~div.sk-toggleable__content {max-height: 200px;max-width: 100%;overflow: auto;}#sk-container-id-2 input.sk-toggleable__control:checked~label.sk-toggleable__label-arrow:before {content: \"▾\";}#sk-container-id-2 div.sk-estimator input.sk-toggleable__control:checked~label.sk-toggleable__label {background-color: #d4ebff;}#sk-container-id-2 div.sk-label input.sk-toggleable__control:checked~label.sk-toggleable__label {background-color: #d4ebff;}#sk-container-id-2 input.sk-hidden--visually {border: 0;clip: rect(1px 1px 1px 1px);clip: rect(1px, 1px, 1px, 1px);height: 1px;margin: -1px;overflow: hidden;padding: 0;position: absolute;width: 1px;}#sk-container-id-2 div.sk-estimator {font-family: monospace;background-color: #f0f8ff;border: 1px dotted black;border-radius: 0.25em;box-sizing: border-box;margin-bottom: 0.5em;}#sk-container-id-2 div.sk-estimator:hover {background-color: #d4ebff;}#sk-container-id-2 div.sk-parallel-item::after {content: \"\";width: 100%;border-bottom: 1px solid gray;flex-grow: 1;}#sk-container-id-2 div.sk-label:hover label.sk-toggleable__label {background-color: #d4ebff;}#sk-container-id-2 div.sk-serial::before {content: \"\";position: absolute;border-left: 1px solid gray;box-sizing: border-box;top: 0;bottom: 0;left: 50%;z-index: 0;}#sk-container-id-2 div.sk-serial {display: flex;flex-direction: column;align-items: center;background-color: white;padding-right: 0.2em;padding-left: 0.2em;position: relative;}#sk-container-id-2 div.sk-item {position: relative;z-index: 1;}#sk-container-id-2 div.sk-parallel {display: flex;align-items: stretch;justify-content: center;background-color: white;position: relative;}#sk-container-id-2 div.sk-item::before, #sk-container-id-2 div.sk-parallel-item::before {content: \"\";position: absolute;border-left: 1px solid gray;box-sizing: border-box;top: 0;bottom: 0;left: 50%;z-index: -1;}#sk-container-id-2 div.sk-parallel-item {display: flex;flex-direction: column;z-index: 1;position: relative;background-color: white;}#sk-container-id-2 div.sk-parallel-item:first-child::after {align-self: flex-end;width: 50%;}#sk-container-id-2 div.sk-parallel-item:last-child::after {align-self: flex-start;width: 50%;}#sk-container-id-2 div.sk-parallel-item:only-child::after {width: 0;}#sk-container-id-2 div.sk-dashed-wrapped {border: 1px dashed gray;margin: 0 0.4em 0.5em 0.4em;box-sizing: border-box;padding-bottom: 0.4em;background-color: white;}#sk-container-id-2 div.sk-label label {font-family: monospace;font-weight: bold;display: inline-block;line-height: 1.2em;}#sk-container-id-2 div.sk-label-container {text-align: center;}#sk-container-id-2 div.sk-container {/* jupyter's `normalize.less` sets `[hidden] { display: none; }` but bootstrap.min.css set `[hidden] { display: none !important; }` so we also need the `!important` here to be able to override the default hidden behavior on the sphinx rendered scikit-learn.org. See: https://github.com/scikit-learn/scikit-learn/issues/21755 */display: inline-block !important;position: relative;}#sk-container-id-2 div.sk-text-repr-fallback {display: none;}</style><div id=\"sk-container-id-2\" class=\"sk-top-container\"><div class=\"sk-text-repr-fallback\"><pre>DecisionTreeRegressor(max_depth=7, random_state=42)</pre><b>In a Jupyter environment, please rerun this cell to show the HTML representation or trust the notebook. <br />On GitHub, the HTML representation is unable to render, please try loading this page with nbviewer.org.</b></div><div class=\"sk-container\" hidden><div class=\"sk-item\"><div class=\"sk-estimator sk-toggleable\"><input class=\"sk-toggleable__control sk-hidden--visually\" id=\"sk-estimator-id-2\" type=\"checkbox\" checked><label for=\"sk-estimator-id-2\" class=\"sk-toggleable__label sk-toggleable__label-arrow\">DecisionTreeRegressor</label><div class=\"sk-toggleable__content\"><pre>DecisionTreeRegressor(max_depth=7, random_state=42)</pre></div></div></div></div></div>"
            ]
          },
          "metadata": {},
          "execution_count": 57
        }
      ]
    },
    {
      "cell_type": "code",
      "source": [
        "y_test_pred = tree_model.predict(X_t)\n",
        "\n",
        "submission_df = pd.DataFrame(data={'ID': X_test.ID.values,\n",
        "                                   'ARRIVAL_DELAY': y_test_pred.squeeze()})\n",
        "\n",
        "submission_df.to_csv(\"submission_decision_tree.csv\", index=False)"
      ],
      "metadata": {
        "id": "4ybgWeoWqV8Z"
      },
      "execution_count": null,
      "outputs": []
    },
    {
      "cell_type": "code",
      "source": [
        "y_test = y_test\n",
        "y_pred = y_test_pred\n",
        "\n",
        "mae = mean_absolute_error(y_test, y_pred)\n",
        "mse = mean_squared_error(y_test, y_pred)\n",
        "rmse = mean_squared_error(y_test, y_pred, squared=False)\n",
        "r2 = r2_score(y_test, y_pred)\n",
        "\n",
        "\n",
        "print(f'MAE: {mae}')\n",
        "print(f'MSE: {mse}')\n",
        "print(f'RMSE: {rmse}')\n",
        "print(f'R^2: {r2}')"
      ],
      "metadata": {
        "colab": {
          "base_uri": "https://localhost:8080/"
        },
        "id": "dfgLchm9qYxb",
        "outputId": "da482f92-f492-4cbd-c8ba-944b4c7b5ad5"
      },
      "execution_count": null,
      "outputs": [
        {
          "output_type": "stream",
          "name": "stdout",
          "text": [
            "MAE: 8.05366186720541\n",
            "MSE: 122.56926810731753\n",
            "RMSE: 11.071100582476772\n",
            "R^2: 0.9212062299591464\n"
          ]
        }
      ]
    },
    {
      "cell_type": "code",
      "source": [
        "from sklearn.ensemble import RandomForestRegressor\n",
        "\n",
        "forest_model = RandomForestRegressor(n_estimators = 12, verbose=True)\n",
        "forest_model.fit(X, y_train)"
      ],
      "metadata": {
        "id": "jri6U6xHyaht"
      },
      "execution_count": null,
      "outputs": []
    },
    {
      "cell_type": "code",
      "source": [
        "y_test_pred = forest_model.predict(X_t)\n",
        "\n",
        "submission_df = pd.DataFrame(data={'ID': X_test.ID.values,\n",
        "                                   'ARRIVAL_DELAY': y_test_pred.squeeze()})\n",
        "\n",
        "submission_df.to_csv(\"submission_forest.csv\", index=False)"
      ],
      "metadata": {
        "id": "bw-5RO62yfCh"
      },
      "execution_count": null,
      "outputs": []
    },
    {
      "cell_type": "code",
      "source": [
        "y_test = y_test\n",
        "y_pred = y_test_pred\n",
        "\n",
        "mae = mean_absolute_error(y_test, y_pred)\n",
        "mse = mean_squared_error(y_test, y_pred)\n",
        "rmse = mean_squared_error(y_test, y_pred, squared=False)\n",
        "r2 = r2_score(y_test, y_pred)\n",
        "\n",
        "\n",
        "print(f'MAE: {mae}')\n",
        "print(f'MSE: {mse}')\n",
        "print(f'RMSE: {rmse}')\n",
        "print(f'R^2: {r2}')"
      ],
      "metadata": {
        "id": "b4xWdzDHyoa9"
      },
      "execution_count": null,
      "outputs": []
    },
    {
      "cell_type": "markdown",
      "source": [
        "# **Wyniki (+rep)**"
      ],
      "metadata": {
        "id": "rK-2yZpM4M4s"
      }
    },
    {
      "cell_type": "code",
      "source": [
        "data = {\n",
        "    'Model': ['XGBOOST', 'DecisionTree', 'RANDOM FOREST'],\n",
        "    'MAE': [7.09, 8.65, 7.45],\n",
        "    'MSE': [110, 143, 109],\n",
        "    'RMSE': [10.49, 11.96, 10.45],\n",
        "    'R^2': [0.93, 0.91, 0.93]\n",
        "}\n",
        "\n",
        "df = pd.DataFrame(data)"
      ],
      "metadata": {
        "id": "-0o7Mr5B4MWQ"
      },
      "execution_count": null,
      "outputs": []
    },
    {
      "cell_type": "code",
      "source": [
        "print(df)"
      ],
      "metadata": {
        "colab": {
          "base_uri": "https://localhost:8080/"
        },
        "id": "92D8eAwY4ptg",
        "outputId": "1e616688-85d3-4ead-8bdc-4afc14ca4365"
      },
      "execution_count": null,
      "outputs": [
        {
          "output_type": "stream",
          "name": "stdout",
          "text": [
            "           Model   MAE  MSE   RMSE   R^2\n",
            "0        XGBOOST  7.09  110  10.49  0.93\n",
            "1   DecisionTree  8.65  143  11.96  0.91\n",
            "2  RANDOM FOREST  7.45  109  10.45  0.93\n"
          ]
        }
      ]
    },
    {
      "cell_type": "markdown",
      "source": [
        "# **Wyniki (+loc)**\n"
      ],
      "metadata": {
        "id": "9e36AZntQZya"
      }
    },
    {
      "cell_type": "code",
      "source": [
        "data = {\n",
        "    'Model': ['XGBOOST', 'DecisionTree', 'RANDOM FOREST'],\n",
        "    'MAE': [7.09, 8.05, 7.43],\n",
        "    'MSE': [111, 122, 108],\n",
        "    'RMSE': [10.54, 11.07, 10.41],\n",
        "    'R^2': [0.93, 0.92, 0.92]\n",
        "}\n",
        "\n",
        "df = pd.DataFrame(data)"
      ],
      "metadata": {
        "id": "C3RrypE7QiWL"
      },
      "execution_count": null,
      "outputs": []
    },
    {
      "cell_type": "code",
      "source": [
        "print(df)"
      ],
      "metadata": {
        "colab": {
          "base_uri": "https://localhost:8080/"
        },
        "id": "62h6ttPKQuxq",
        "outputId": "f78028bd-2bbd-418b-98f2-c450c1e33086"
      },
      "execution_count": null,
      "outputs": [
        {
          "output_type": "stream",
          "name": "stdout",
          "text": [
            "           Model   MAE  MSE   RMSE   R^2\n",
            "0        XGBOOST  7.09  111  10.54  0.93\n",
            "1   DecisionTree  8.05  122  11.07  0.92\n",
            "2  RANDOM FOREST  7.43  108  10.41  0.92\n"
          ]
        }
      ]
    },
    {
      "cell_type": "markdown",
      "source": [
        "![image.png](data:image/png;base64,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)![image.png](\n",
        "  **pogrubiony tekst**\n",
        ")"
      ],
      "metadata": {
        "id": "O2DoC4aRY_2E"
      }
    },
    {
      "cell_type": "markdown",
      "source": [
        "# **Clustering**"
      ],
      "metadata": {
        "id": "-o6ZMm7U9JUG"
      }
    },
    {
      "cell_type": "code",
      "source": [
        "from sklearn.decomposition import PCA\n",
        "from sklearn.manifold import TSNE\n",
        "from sklearn.cluster import KMeans\n",
        "import matplotlib.pyplot as plt"
      ],
      "metadata": {
        "id": "jOgug1pP8gDW"
      },
      "execution_count": null,
      "outputs": []
    },
    {
      "cell_type": "code",
      "source": [
        "df = pd.DataFrame(X_rep)\n",
        "\n",
        "pca = PCA(n_components=3)\n",
        "pca_result = pca.fit_transform(np.array(df['Representation'].tolist()))\n",
        "\n",
        "\n",
        "tsne = TSNE(n_components=3, perplexity=30, n_iter=1000)\n",
        "tsne_result = tsne.fit_transform(np.array(df['Representation'].tolist()))\n",
        "\n",
        "\n",
        "kmeans = KMeans(n_clusters=3)\n",
        "kmeans.fit(np.array(df['Representation'].tolist()))\n",
        "clusters = kmeans.labels_\n",
        "\n",
        "\n",
        "df['PCA1'] = pca_result[:,0]\n",
        "df['PCA2'] = pca_result[:,1]\n",
        "df['PCA3'] = pca_result[:,2]\n",
        "df['tSNE1'] = tsne_result[:,0]\n",
        "df['tSNE2'] = tsne_result[:,1]\n",
        "df['tSNE3'] = tsne_result[:,2]\n",
        "df['Cluster'] = clusters\n",
        "\n",
        "print(df)"
      ],
      "metadata": {
        "colab": {
          "base_uri": "https://localhost:8080/"
        },
        "id": "PyfHXYAg8KP0",
        "outputId": "61eef1d4-1dff-49e3-d787-0e3781e7e4bf"
      },
      "execution_count": null,
      "outputs": [
        {
          "output_type": "stream",
          "name": "stdout",
          "text": [
            "    Airport                                     Representation      PCA1  \\\n",
            "0       DFW  [1.2297251224517822, 0.16540391743183136, 0.63...  1.978706   \n",
            "1       BWI  [1.41794753074646, 0.13733047246932983, 0.2455...  1.288891   \n",
            "2       SMF  [0.017414767295122147, 0.13441374897956848, 0....  0.383852   \n",
            "3       ONT  [0.0, 0.10550469905138016, 0.49953240156173706...  0.535811   \n",
            "4       LCH  [0.01567821018397808, 0.004727749153971672, 0.... -0.530518   \n",
            "..      ...                                                ...       ...   \n",
            "317     ILG  [0.42490682005882263, 0.0, 0.0, 0.0, 0.1501445... -0.219097   \n",
            "318     AKN  [0.0, 0.0, 0.0, 0.0, 0.0, 0.0, 0.0, 0.0, 0.605... -0.531146   \n",
            "319     GST  [0.0, 0.0, 0.007566665764898062, 0.0, 0.0, 0.0... -0.521092   \n",
            "320     CNY  [0.0, 0.0, 0.0, 0.0, 0.0, 0.0, 0.0, 0.0, 0.156... -0.557745   \n",
            "321     ITH  [0.48981326818466187, 0.08282214403152466, 0.0... -0.224783   \n",
            "\n",
            "         PCA2      tSNE1     tSNE2  Cluster      PCA3     tSNE3  \n",
            "0    0.201179  10.448551  1.897979        0  0.015945 -1.159200  \n",
            "1   -0.703941   9.931268 -0.979571        0  0.045037  0.214637  \n",
            "2    0.918283   7.218676  6.413028        2  0.178794 -1.250710  \n",
            "3    0.990376   7.977718  6.281200        2  0.000850 -0.524462  \n",
            "4    0.004715  -6.945820 -1.686836        1  0.018961  2.694861  \n",
            "..        ...        ...       ...      ...       ...       ...  \n",
            "317 -0.285198   1.235607 -3.805164        1  0.240967 -0.489126  \n",
            "318  0.016577  -7.380133 -2.379732        1  0.054351 -3.477837  \n",
            "319  0.019057  -7.147132 -3.367217        1  0.106621 -4.138518  \n",
            "320  0.011344  -8.294389  3.367181        1 -0.096600  4.028961  \n",
            "321 -0.301828   1.562366 -4.347159        1  0.219365  0.303684  \n",
            "\n",
            "[322 rows x 9 columns]\n"
          ]
        },
        {
          "output_type": "stream",
          "name": "stderr",
          "text": [
            "/usr/local/lib/python3.10/dist-packages/sklearn/cluster/_kmeans.py:870: FutureWarning: The default value of `n_init` will change from 10 to 'auto' in 1.4. Set the value of `n_init` explicitly to suppress the warning\n",
            "  warnings.warn(\n"
          ]
        }
      ]
    },
    {
      "cell_type": "code",
      "source": [
        "fig = plt.figure(figsize=(10, 8))\n",
        "ax = fig.add_subplot(111, projection='3d')\n",
        "scatter = ax.scatter(df['PCA1'], df['PCA2'], df['PCA3'], c=df['Cluster'], cmap='viridis')\n",
        "ax.set_title('PCA in 3D')\n",
        "ax.set_xlabel('PCA1')\n",
        "ax.set_ylabel('PCA2')\n",
        "ax.set_zlabel('PCA3')\n",
        "plt.colorbar(scatter)\n",
        "plt.show()\n",
        "\n",
        "fig = plt.figure(figsize=(10, 8))\n",
        "ax = fig.add_subplot(111, projection='3d')\n",
        "scatter = ax.scatter(df['tSNE1'], df['tSNE2'], df['tSNE3'], c=df['Cluster'], cmap='viridis')\n",
        "ax.set_title('t-SNE in 3D')\n",
        "ax.set_xlabel('tSNE1')\n",
        "ax.set_ylabel('tSNE2')\n",
        "ax.set_zlabel('tSNE3')\n",
        "plt.colorbar(scatter)\n",
        "plt.show()"
      ],
      "metadata": {
        "colab": {
          "base_uri": "https://localhost:8080/"
        },
        "id": "BdR0FzQ28jn9",
        "outputId": "99a50912-1c85-49b8-f3d1-5490389f27e1"
      },
      "execution_count": null,
      "outputs": [
        {
          "output_type": "display_data",
          "data": {
            "text/plain": [
              "<Figure size 1000x800 with 2 Axes>"
            ],
            "image/png": "[encoded data removed]"
          },
          "metadata": {}
        },
        {
          "output_type": "display_data",
          "data": {
            "text/plain": [
              "<Figure size 1000x800 with 2 Axes>"
            ],
            "image/png": "[encoded data removed]"
          },
          "metadata": {}
        }
      ]
    }
  ]
}